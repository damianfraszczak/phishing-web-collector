{
 "cells": [
  {
   "metadata": {},
   "cell_type": "markdown",
   "source": [
    "# Introduction\n",
    "\n",
    "This notebook provides a quick introduction to the `phishing-web-collector` library, which allows you to collect phishing domains from various feeds. \n",
    "\n",
    "It shows how to configure a single feed, retrieve entries, and process data."
   ],
   "id": "1cbeecbff4306674"
  },
  {
   "metadata": {},
   "cell_type": "markdown",
   "source": "# Installation\n",
   "id": "d7a45babfa4d269"
  },
  {
   "metadata": {
    "ExecuteTime": {
     "end_time": "2025-06-01T07:21:20.887541Z",
     "start_time": "2025-06-01T07:21:19.557481Z"
    }
   },
   "cell_type": "code",
   "source": "!pip install phishing-web-collector>=0.2.0",
   "id": "dcb722d1129eb76b",
   "outputs": [
    {
     "name": "stderr",
     "output_type": "stream",
     "text": [
      "\n",
      "[notice] A new release of pip is available: 25.0.1 -> 25.1.1\n",
      "[notice] To update, run: python.exe -m pip install --upgrade pip\n"
     ]
    }
   ],
   "execution_count": 1
  },
  {
   "metadata": {},
   "cell_type": "markdown",
   "source": "# Import libraries  ",
   "id": "8805a65d0878c361"
  },
  {
   "metadata": {
    "ExecuteTime": {
     "end_time": "2025-06-01T07:25:18.669290Z",
     "start_time": "2025-06-01T07:25:18.284522Z"
    }
   },
   "cell_type": "code",
   "source": "import phishing_web_collector as pwc",
   "id": "5b1d3f87bb2d4656",
   "outputs": [],
   "execution_count": 2
  },
  {
   "metadata": {},
   "cell_type": "markdown",
   "source": "# Configure phishing feed\n",
   "id": "4141183e5ae85332"
  },
  {
   "metadata": {
    "ExecuteTime": {
     "end_time": "2025-06-01T07:25:20.787588Z",
     "start_time": "2025-06-01T07:25:20.783553Z"
    }
   },
   "cell_type": "code",
   "source": "feed = pwc.CertPLFeed(storage_path=\"cert_pl_feed_storage\")",
   "id": "7e41453b2a2b45ea",
   "outputs": [],
   "execution_count": 3
  },
  {
   "metadata": {},
   "cell_type": "markdown",
   "source": "# Retrieve data",
   "id": "b61c7dbd0d84b79b"
  },
  {
   "metadata": {
    "ExecuteTime": {
     "end_time": "2025-06-01T07:26:08.911916Z",
     "start_time": "2025-06-01T07:26:07.878476Z"
    }
   },
   "cell_type": "code",
   "source": "data = await feed.retrieve()",
   "id": "c1d1c550a4690f39",
   "outputs": [],
   "execution_count": 7
  },
  {
   "metadata": {},
   "cell_type": "markdown",
   "source": "# Process entries",
   "id": "14f2b88050a8c12"
  },
  {
   "metadata": {
    "ExecuteTime": {
     "end_time": "2025-06-01T07:26:53.353475Z",
     "start_time": "2025-06-01T07:26:53.343964Z"
    }
   },
   "cell_type": "code",
   "source": [
    "for entry in data[:10]:  # Display first 10 entries\n",
    "    print(f\"URL: {entry.url}, Source: {entry.source}, Fetch Date: {entry.fetch_date}\")\n"
   ],
   "id": "cc1f6c09818d6682",
   "outputs": [
    {
     "name": "stdout",
     "output_type": "stream",
     "text": [
      "URL: e85e5afadc052e9a99f36d81b9589c37.m-pl.co.pl, Source: FeedSource.CERT_PL, Fetch Date: 2025-06-01 09:26:08.017482\n",
      "URL: olx-pol-kxlsw2.danshi.top, Source: FeedSource.CERT_PL, Fetch Date: 2025-06-01 09:26:08.017482\n",
      "URL: pp.buuda.xyz, Source: FeedSource.CERT_PL, Fetch Date: 2025-06-01 09:26:08.017482\n",
      "URL: 8qui.icu, Source: FeedSource.CERT_PL, Fetch Date: 2025-06-01 09:26:08.017482\n",
      "URL: f5da77a7727595e0fbf895a0dd2242c7.nyoh.pl, Source: FeedSource.CERT_PL, Fetch Date: 2025-06-01 09:26:08.017482\n",
      "URL: zujipa.com, Source: FeedSource.CERT_PL, Fetch Date: 2025-06-01 09:26:08.017482\n",
      "URL: www.darmowe-ogloszenie.com, Source: FeedSource.CERT_PL, Fetch Date: 2025-06-01 09:26:08.017482\n",
      "URL: inpost-order.pl-id18445004.xyz, Source: FeedSource.CERT_PL, Fetch Date: 2025-06-01 09:26:08.017482\n",
      "URL: o7c.a5x7.icu, Source: FeedSource.CERT_PL, Fetch Date: 2025-06-01 09:26:08.017482\n",
      "URL: www.iko-pl.online, Source: FeedSource.CERT_PL, Fetch Date: 2025-06-01 09:26:08.017482\n"
     ]
    }
   ],
   "execution_count": 9
  },
  {
   "metadata": {},
   "cell_type": "code",
   "outputs": [],
   "execution_count": null,
   "source": "",
   "id": "616d8fbc756140cf"
  }
 ],
 "metadata": {
  "kernelspec": {
   "display_name": "Python 3",
   "language": "python",
   "name": "python3"
  },
  "language_info": {
   "codemirror_mode": {
    "name": "ipython",
    "version": 2
   },
   "file_extension": ".py",
   "mimetype": "text/x-python",
   "name": "python",
   "nbconvert_exporter": "python",
   "pygments_lexer": "ipython2",
   "version": "2.7.6"
  }
 },
 "nbformat": 4,
 "nbformat_minor": 5
}
