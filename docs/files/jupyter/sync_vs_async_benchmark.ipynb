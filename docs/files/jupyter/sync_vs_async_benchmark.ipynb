{
 "cells": [
  {
   "metadata": {},
   "cell_type": "markdown",
   "source": [
    "# Introduction\n",
    "\n",
    "This notebook benchmarks the performance of synchronous vs asynchronous retrieval of phishing entries from various feeds. For the asynchronous retrieval, it uses the `asyncio` library to run multiple feed retrievals concurrently. The synchronous retrieval runs each feed one after the other.\n"
   ],
   "id": "1cbeecbff4306674"
  },
  {
   "metadata": {},
   "cell_type": "markdown",
   "source": "# Installation\n",
   "id": "d7a45babfa4d269"
  },
  {
   "metadata": {
    "ExecuteTime": {
     "end_time": "2025-06-01T07:13:43.965055Z",
     "start_time": "2025-06-01T07:13:41.396898Z"
    }
   },
   "cell_type": "code",
   "source": "!pip install phishing-web-collector>=0.2.0",
   "id": "dcb722d1129eb76b",
   "outputs": [
    {
     "name": "stderr",
     "output_type": "stream",
     "text": [
      "\n",
      "[notice] A new release of pip is available: 25.0.1 -> 25.1.1\n",
      "[notice] To update, run: python.exe -m pip install --upgrade pip\n"
     ]
    }
   ],
   "execution_count": 1
  },
  {
   "metadata": {},
   "cell_type": "markdown",
   "source": "# Import libraries  ",
   "id": "8805a65d0878c361"
  },
  {
   "metadata": {
    "ExecuteTime": {
     "end_time": "2025-06-01T07:13:44.347021Z",
     "start_time": "2025-06-01T07:13:43.979952Z"
    }
   },
   "cell_type": "code",
   "source": [
    "import asyncio\n",
    "import shutil\n",
    "import time\n",
    "from pathlib import Path\n",
    "\n",
    "from phishing_web_collector import FeedSource\n",
    "from phishing_web_collector.feed_manager import SOURCES_MAP"
   ],
   "id": "5b1d3f87bb2d4656",
   "outputs": [],
   "execution_count": 2
  },
  {
   "metadata": {},
   "cell_type": "markdown",
   "source": "# Configure experiment\n",
   "id": "4141183e5ae85332"
  },
  {
   "metadata": {
    "ExecuteTime": {
     "end_time": "2025-06-01T07:13:44.737991Z",
     "start_time": "2025-06-01T07:13:44.733768Z"
    }
   },
   "cell_type": "code",
   "source": [
    "sources = [\n",
    "        FeedSource.AD_GUARD_HOME,\n",
    "        FeedSource.BINARY_DEFENCE_IP,\n",
    "        FeedSource.BLOCKLIST_DE_IP,\n",
    "        FeedSource.BOTVRIJ,\n",
    "        FeedSource.C2_INTEL_DOMAIN,\n",
    "        FeedSource.C2_TRACKER_IP,\n",
    "        FeedSource.CERT_PL,\n",
    "        FeedSource.DANGEROUS_DOMAINS,\n",
    "        FeedSource.GREEN_SNOW_IP,\n",
    "        FeedSource.MALWARE_WORLD,\n",
    "        FeedSource.MIRAI_SECURITY_IP,\n",
    "        FeedSource.OPEN_PHISH,\n",
    "        FeedSource.PHISHING_ARMY,\n",
    "        FeedSource.PHISHING_DATABASE,\n",
    "        FeedSource.PHISH_STATS,\n",
    "        FeedSource.PHISH_TANK,\n",
    "        FeedSource.PROOF_POINT_IP,\n",
    "        FeedSource.THREAT_VIEW_DOMAIN,\n",
    "        FeedSource.TWEET_FEED,\n",
    "        FeedSource.URL_ABUSE,\n",
    "        FeedSource.URL_HAUS,\n",
    "        FeedSource.VALDIN,\n",
    "]\n",
    "N_RUNS = 5\n",
    "SYNC_DIR = Path(\"sync_check\")\n",
    "ASYNC_DIR = Path(\"async_check\")\n",
    "\n",
    "def clear_dir(path: Path):\n",
    "    if path.exists():\n",
    "        shutil.rmtree(path)\n",
    "    path.mkdir(parents=True)\n"
   ],
   "id": "7e41453b2a2b45ea",
   "outputs": [],
   "execution_count": 4
  },
  {
   "metadata": {},
   "cell_type": "markdown",
   "source": "# Async and Sync functions",
   "id": "b61c7dbd0d84b79b"
  },
  {
   "metadata": {
    "ExecuteTime": {
     "end_time": "2025-06-01T07:13:46.334029Z",
     "start_time": "2025-06-01T07:13:46.327669Z"
    }
   },
   "cell_type": "code",
   "source": [
    "\n",
    "def retrieve_all_sync() -> float:\n",
    "    \"\"\"Retrieve all phishing entries from all feeds synchronously (sequentially).\"\"\"\n",
    "    providers = [SOURCES_MAP[source](\"sync_check\") for source in\n",
    "                 sources]\n",
    "    start = time.perf_counter()\n",
    "    entries = []\n",
    "    for provider in providers:\n",
    "        entries.extend(provider.retrieve_sync())\n",
    "    duration = time.perf_counter() - start\n",
    "    print(f\"Sync took {duration:.2f} seconds\")\n",
    "    return duration\n",
    "\n",
    "\n",
    "async def retrieve_all() -> float:\n",
    "    \"\"\"Retrieve all phishing entries from all feeds asynchronously.\"\"\"\n",
    "    providers = [SOURCES_MAP[source](\"async_check\") for source in\n",
    "                 sources]\n",
    "    start = time.perf_counter()\n",
    "    results = await asyncio.gather(*(provider.retrieve() for provider in providers))\n",
    "    entries = [entry for result in results for entry in result]\n",
    "    duration = time.perf_counter() - start\n",
    "    print(f\"Async took {duration:.2f} seconds\")\n",
    "    return duration"
   ],
   "id": "c1d1c550a4690f39",
   "outputs": [],
   "execution_count": 5
  },
  {
   "metadata": {},
   "cell_type": "markdown",
   "source": "# Benchmark logic",
   "id": "14f2b88050a8c12"
  },
  {
   "metadata": {
    "ExecuteTime": {
     "end_time": "2025-06-01T07:13:49.276495Z",
     "start_time": "2025-06-01T07:13:49.272170Z"
    }
   },
   "cell_type": "code",
   "source": [
    "\n",
    "async def run_benchmark():\n",
    "    sync_times = []\n",
    "    async_times = []\n",
    "\n",
    "    for i in range(N_RUNS):\n",
    "        print(f\"\\n--- Run {i + 1} ---\")\n",
    "        clear_dir(SYNC_DIR)\n",
    "        clear_dir(ASYNC_DIR)\n",
    "\n",
    "        # Async\n",
    "        async_time = await retrieve_all()\n",
    "        async_times.append(async_time)\n",
    "        print(f\"Async took {async_time:.2f} s\")\n",
    "\n",
    "        # Sync\n",
    "        sync_time = retrieve_all_sync()\n",
    "        sync_times.append(sync_time)\n",
    "        print(f\"Sync took {sync_time:.2f} s\")\n",
    "\n",
    "    avg_async = sum(async_times) / N_RUNS\n",
    "    avg_sync = sum(sync_times) / N_RUNS\n",
    "\n",
    "    print(f\"\\nAverage async time: {avg_async:.2f} s\")\n",
    "    print(f\"Average sync time: {avg_sync:.2f} s\")"
   ],
   "id": "cc1f6c09818d6682",
   "outputs": [],
   "execution_count": 6
  },
  {
   "metadata": {},
   "cell_type": "markdown",
   "source": "# Run the benchmark",
   "id": "7e4ed452a89a106a"
  },
  {
   "metadata": {
    "ExecuteTime": {
     "end_time": "2025-06-01T07:17:50.502999Z",
     "start_time": "2025-06-01T07:13:52.967899Z"
    }
   },
   "cell_type": "code",
   "source": "await run_benchmark()",
   "id": "760cfc0a1c08a285",
   "outputs": [
    {
     "name": "stdout",
     "output_type": "stream",
     "text": [
      "\n",
      "--- Run 1 ---\n",
      "Async took 13.45 seconds\n",
      "Async took 13.45 s\n",
      "Sync took 25.26 seconds\n",
      "Sync took 25.26 s\n",
      "\n",
      "--- Run 2 ---\n",
      "Async took 15.54 seconds\n",
      "Async took 15.54 s\n",
      "Sync took 27.62 seconds\n",
      "Sync took 27.62 s\n",
      "\n",
      "--- Run 3 ---\n",
      "Async took 16.79 seconds\n",
      "Async took 16.79 s\n",
      "Sync took 29.09 seconds\n",
      "Sync took 29.09 s\n",
      "\n",
      "--- Run 4 ---\n",
      "Async took 13.97 seconds\n",
      "Async took 13.97 s\n",
      "Sync took 29.26 seconds\n",
      "Sync took 29.26 s\n",
      "\n",
      "--- Run 5 ---\n",
      "Async took 15.96 seconds\n",
      "Async took 15.96 s\n",
      "Sync took 27.00 seconds\n",
      "Sync took 27.00 s\n",
      "\n",
      "Average async time: 15.14 s\n",
      "Average sync time: 27.65 s\n"
     ]
    }
   ],
   "execution_count": 7
  },
  {
   "metadata": {
    "ExecuteTime": {
     "end_time": "2025-06-01T05:44:27.196875Z",
     "start_time": "2025-06-01T05:44:27.191621Z"
    }
   },
   "cell_type": "code",
   "source": "",
   "id": "f481aa776fe830c5",
   "outputs": [],
   "execution_count": null
  }
 ],
 "metadata": {
  "kernelspec": {
   "display_name": "Python 3",
   "language": "python",
   "name": "python3"
  },
  "language_info": {
   "codemirror_mode": {
    "name": "ipython",
    "version": 2
   },
   "file_extension": ".py",
   "mimetype": "text/x-python",
   "name": "python",
   "nbconvert_exporter": "python",
   "pygments_lexer": "ipython2",
   "version": "2.7.6"
  }
 },
 "nbformat": 4,
 "nbformat_minor": 5
}
