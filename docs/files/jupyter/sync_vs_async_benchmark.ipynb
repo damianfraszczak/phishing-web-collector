{
 "cells": [
  {
   "metadata": {},
   "cell_type": "markdown",
   "source": [
    "# Introduction\n",
    "\n",
    "This notebook benchmarks the performance of synchronous vs asynchronous retrieval of phishing entries from various feeds. For the asynchronous retrieval, it uses the `asyncio` library to run multiple feed retrievals concurrently. The synchronous retrieval runs each feed one after the other.\n"
   ],
   "id": "1cbeecbff4306674"
  },
  {
   "metadata": {},
   "cell_type": "markdown",
   "source": "# Installation\n",
   "id": "d7a45babfa4d269"
  },
  {
   "metadata": {
    "ExecuteTime": {
     "end_time": "2025-05-28T09:25:12.978788Z",
     "start_time": "2025-05-28T09:25:12.270672Z"
    }
   },
   "cell_type": "code",
   "source": "!pip install phishing-web-collector>=0.1.4",
   "id": "dcb722d1129eb76b",
   "outputs": [
    {
     "name": "stdout",
     "output_type": "stream",
     "text": [
      "Requirement already satisfied: phishing-web-collector==0.1.3 in /home/efraszczak/programowanie/phishing-web-collector/venv/lib/python3.10/site-packages (0.1.3)\r\n",
      "Requirement already satisfied: aiohttp in /home/efraszczak/programowanie/phishing-web-collector/venv/lib/python3.10/site-packages (from phishing-web-collector==0.1.3) (3.11.12)\r\n",
      "Requirement already satisfied: aiohappyeyeballs>=2.3.0 in /home/efraszczak/programowanie/phishing-web-collector/venv/lib/python3.10/site-packages (from aiohttp->phishing-web-collector==0.1.3) (2.4.6)\r\n",
      "Requirement already satisfied: aiosignal>=1.1.2 in /home/efraszczak/programowanie/phishing-web-collector/venv/lib/python3.10/site-packages (from aiohttp->phishing-web-collector==0.1.3) (1.3.2)\r\n",
      "Requirement already satisfied: async-timeout<6.0,>=4.0 in /home/efraszczak/programowanie/phishing-web-collector/venv/lib/python3.10/site-packages (from aiohttp->phishing-web-collector==0.1.3) (5.0.1)\r\n",
      "Requirement already satisfied: attrs>=17.3.0 in /home/efraszczak/programowanie/phishing-web-collector/venv/lib/python3.10/site-packages (from aiohttp->phishing-web-collector==0.1.3) (25.1.0)\r\n",
      "Requirement already satisfied: frozenlist>=1.1.1 in /home/efraszczak/programowanie/phishing-web-collector/venv/lib/python3.10/site-packages (from aiohttp->phishing-web-collector==0.1.3) (1.5.0)\r\n",
      "Requirement already satisfied: multidict<7.0,>=4.5 in /home/efraszczak/programowanie/phishing-web-collector/venv/lib/python3.10/site-packages (from aiohttp->phishing-web-collector==0.1.3) (6.1.0)\r\n",
      "Requirement already satisfied: propcache>=0.2.0 in /home/efraszczak/programowanie/phishing-web-collector/venv/lib/python3.10/site-packages (from aiohttp->phishing-web-collector==0.1.3) (0.2.1)\r\n",
      "Requirement already satisfied: yarl<2.0,>=1.17.0 in /home/efraszczak/programowanie/phishing-web-collector/venv/lib/python3.10/site-packages (from aiohttp->phishing-web-collector==0.1.3) (1.18.3)\r\n",
      "Requirement already satisfied: typing-extensions>=4.1.0 in /home/efraszczak/programowanie/phishing-web-collector/venv/lib/python3.10/site-packages (from multidict<7.0,>=4.5->aiohttp->phishing-web-collector==0.1.3) (4.12.2)\r\n",
      "Requirement already satisfied: idna>=2.0 in /home/efraszczak/programowanie/phishing-web-collector/venv/lib/python3.10/site-packages (from yarl<2.0,>=1.17.0->aiohttp->phishing-web-collector==0.1.3) (3.10)\r\n",
      "\r\n",
      "\u001B[1m[\u001B[0m\u001B[34;49mnotice\u001B[0m\u001B[1;39;49m]\u001B[0m\u001B[39;49m A new release of pip is available: \u001B[0m\u001B[31;49m24.3.1\u001B[0m\u001B[39;49m -> \u001B[0m\u001B[32;49m25.1.1\u001B[0m\r\n",
      "\u001B[1m[\u001B[0m\u001B[34;49mnotice\u001B[0m\u001B[1;39;49m]\u001B[0m\u001B[39;49m To update, run: \u001B[0m\u001B[32;49mpip install --upgrade pip\u001B[0m\r\n"
     ]
    }
   ],
   "execution_count": 14
  },
  {
   "metadata": {},
   "cell_type": "markdown",
   "source": "# Import libraries  ",
   "id": "8805a65d0878c361"
  },
  {
   "metadata": {
    "ExecuteTime": {
     "end_time": "2025-05-28T09:25:12.989815Z",
     "start_time": "2025-05-28T09:25:12.987750Z"
    }
   },
   "cell_type": "code",
   "source": [
    "import asyncio\n",
    "import shutil\n",
    "import time\n",
    "from pathlib import Path\n",
    "\n",
    "from phishing_web_collector import FeedSource\n",
    "from phishing_web_collector.feed_manager import SOURCES_MAP"
   ],
   "id": "5b1d3f87bb2d4656",
   "outputs": [],
   "execution_count": 15
  },
  {
   "metadata": {},
   "cell_type": "markdown",
   "source": "# Configure experiment\n",
   "id": "4141183e5ae85332"
  },
  {
   "metadata": {
    "ExecuteTime": {
     "end_time": "2025-05-28T09:25:13.037668Z",
     "start_time": "2025-05-28T09:25:13.034583Z"
    }
   },
   "cell_type": "code",
   "source": [
    "sources = [\n",
    "        FeedSource.AD_GUARD_HOME,\n",
    "        FeedSource.BINARY_DEFENCE_IP,\n",
    "        FeedSource.BLOCKLIST_DE_IP,\n",
    "        FeedSource.BOTVRIJ,\n",
    "        FeedSource.C2_INTEL_DOMAIN,\n",
    "        FeedSource.C2_TRACKER_IP,\n",
    "        FeedSource.CERT_PL,\n",
    "        FeedSource.DANGEROUS_DOMAINS,\n",
    "        FeedSource.GREEN_SNOW_IP,\n",
    "        FeedSource.MALWARE_WORLD,\n",
    "        FeedSource.MIRAI_SECURITY_IP,\n",
    "        FeedSource.OPEN_PHISH,\n",
    "        FeedSource.PHISHING_ARMY,\n",
    "        FeedSource.PHISHING_DATABASE,\n",
    "        FeedSource.PHISH_STATS_API,\n",
    "        FeedSource.PHISH_TANK,\n",
    "        FeedSource.PROOF_POINT_IP,\n",
    "        FeedSource.THREAT_VIEW_DOMAIN,\n",
    "        FeedSource.TWEET_FEED,\n",
    "        FeedSource.URL_ABUSE,\n",
    "        FeedSource.URL_HAUS,\n",
    "        FeedSource.VALDIN,\n",
    "]\n",
    "N_RUNS = 5\n",
    "SYNC_DIR = Path(\"sync_check\")\n",
    "ASYNC_DIR = Path(\"async_check\")\n",
    "\n",
    "def clear_dir(path: Path):\n",
    "    if path.exists():\n",
    "        shutil.rmtree(path)\n",
    "    path.mkdir(parents=True)\n"
   ],
   "id": "7e41453b2a2b45ea",
   "outputs": [],
   "execution_count": 16
  },
  {
   "metadata": {},
   "cell_type": "markdown",
   "source": "# Async and Sync functions",
   "id": "b61c7dbd0d84b79b"
  },
  {
   "metadata": {
    "ExecuteTime": {
     "end_time": "2025-05-28T09:25:13.085863Z",
     "start_time": "2025-05-28T09:25:13.081271Z"
    }
   },
   "cell_type": "code",
   "source": [
    "\n",
    "def retrieve_all_sync() -> float:\n",
    "    \"\"\"Retrieve all phishing entries from all feeds synchronously (sequentially).\"\"\"\n",
    "    providers = [SOURCES_MAP[source](\"sync_check\") for source in\n",
    "                 sources]\n",
    "    start = time.perf_counter()\n",
    "    entries = []\n",
    "    for provider in providers:\n",
    "        entries.extend(provider.retrieve_sync())\n",
    "    duration = time.perf_counter() - start\n",
    "    print(f\"Sync took {duration:.2f} seconds\")\n",
    "    return duration\n",
    "\n",
    "\n",
    "async def retrieve_all() -> float:\n",
    "    \"\"\"Retrieve all phishing entries from all feeds asynchronously.\"\"\"\n",
    "    providers = [SOURCES_MAP[source](\"async_check\") for source in\n",
    "                 sources]\n",
    "    start = time.perf_counter()\n",
    "    results = await asyncio.gather(*(provider.retrieve() for provider in providers))\n",
    "    entries = [entry for result in results for entry in result]\n",
    "    duration = time.perf_counter() - start\n",
    "    print(f\"Async took {duration:.2f} seconds\")\n",
    "    return duration"
   ],
   "id": "c1d1c550a4690f39",
   "outputs": [],
   "execution_count": 17
  },
  {
   "metadata": {},
   "cell_type": "markdown",
   "source": "# Benchmark logic",
   "id": "14f2b88050a8c12"
  },
  {
   "metadata": {
    "ExecuteTime": {
     "end_time": "2025-05-28T09:25:13.131739Z",
     "start_time": "2025-05-28T09:25:13.128625Z"
    }
   },
   "cell_type": "code",
   "source": [
    "\n",
    "async def run_benchmark():\n",
    "    sync_times = []\n",
    "    async_times = []\n",
    "\n",
    "    for i in range(N_RUNS):\n",
    "        print(f\"\\n--- Run {i + 1} ---\")\n",
    "        clear_dir(SYNC_DIR)\n",
    "        clear_dir(ASYNC_DIR)\n",
    "\n",
    "        # Async\n",
    "        async_time = await retrieve_all()\n",
    "        async_times.append(async_time)\n",
    "        print(f\"Async took {async_time:.2f} s\")\n",
    "\n",
    "        # Sync\n",
    "        sync_time = retrieve_all_sync()\n",
    "        sync_times.append(sync_time)\n",
    "        print(f\"Sync took {sync_time:.2f} s\")\n",
    "\n",
    "    avg_async = sum(async_times) / N_RUNS\n",
    "    avg_sync = sum(sync_times) / N_RUNS\n",
    "\n",
    "    print(f\"\\nAverage async time: {avg_async:.2f} s\")\n",
    "    print(f\"Average sync time: {avg_sync:.2f} s\")"
   ],
   "id": "cc1f6c09818d6682",
   "outputs": [],
   "execution_count": 18
  },
  {
   "metadata": {},
   "cell_type": "markdown",
   "source": "# Run the benchmark",
   "id": "7e4ed452a89a106a"
  },
  {
   "metadata": {
    "ExecuteTime": {
     "end_time": "2025-05-28T09:25:40.383032Z",
     "start_time": "2025-05-28T09:25:13.177934Z"
    }
   },
   "cell_type": "code",
   "source": "await run_benchmark()",
   "id": "760cfc0a1c08a285",
   "outputs": [
    {
     "name": "stdout",
     "output_type": "stream",
     "text": [
      "\n",
      "--- Run 1 ---\n"
     ]
    },
    {
     "name": "stderr",
     "output_type": "stream",
     "text": [
      "No data found for feed: BinaryDefenceIP\n",
      "No data found for feed: BlocklistDeIP\n",
      "No data found for feed: Botvrij\n",
      "No data found for feed: C2IntelDomain\n",
      "No data found for feed: C2TrackerIp\n",
      "No data found for feed: CertPl\n",
      "No data found for feed: GreenSnowIp\n",
      "No data found for feed: MiraiSecurityIp\n",
      "No data found for feed: OpenPhish\n",
      "No data found for feed: PhishingArmy\n",
      "No data found for feed: PhishingDatabase\n",
      "No data found for feed: PhishStats\n",
      "No data found for feed: PhishTank\n",
      "No data found for feed: ProofPointIp\n",
      "No data found for feed: PhishingArmy\n",
      "No data found for feed: TweetFeed\n",
      "No data found for feed: UrlAbuse\n",
      "No data found for feed: UrlHaus\n",
      "No data found for feed: Valdin\n"
     ]
    },
    {
     "name": "stdout",
     "output_type": "stream",
     "text": [
      "Async took 5.02 seconds\n",
      "Async took 5.02 s\n",
      "Sync took 0.02 seconds\n",
      "Sync took 0.02 s\n",
      "\n",
      "--- Run 2 ---\n"
     ]
    },
    {
     "name": "stderr",
     "output_type": "stream",
     "text": [
      "No data found for feed: BinaryDefenceIP\n",
      "No data found for feed: BlocklistDeIP\n",
      "No data found for feed: Botvrij\n",
      "No data found for feed: C2IntelDomain\n",
      "No data found for feed: C2TrackerIp\n",
      "No data found for feed: CertPl\n",
      "No data found for feed: GreenSnowIp\n",
      "No data found for feed: MiraiSecurityIp\n",
      "No data found for feed: OpenPhish\n",
      "No data found for feed: PhishingArmy\n",
      "No data found for feed: PhishingDatabase\n",
      "No data found for feed: PhishStats\n",
      "No data found for feed: PhishTank\n",
      "No data found for feed: ProofPointIp\n",
      "No data found for feed: PhishingArmy\n",
      "No data found for feed: TweetFeed\n",
      "No data found for feed: UrlAbuse\n",
      "No data found for feed: UrlHaus\n",
      "No data found for feed: Valdin\n"
     ]
    },
    {
     "name": "stdout",
     "output_type": "stream",
     "text": [
      "Async took 5.62 seconds\n",
      "Async took 5.62 s\n",
      "Sync took 0.01 seconds\n",
      "Sync took 0.01 s\n",
      "\n",
      "--- Run 3 ---\n"
     ]
    },
    {
     "name": "stderr",
     "output_type": "stream",
     "text": [
      "No data found for feed: BinaryDefenceIP\n",
      "No data found for feed: BlocklistDeIP\n",
      "No data found for feed: Botvrij\n",
      "No data found for feed: C2IntelDomain\n",
      "No data found for feed: C2TrackerIp\n",
      "No data found for feed: CertPl\n",
      "No data found for feed: GreenSnowIp\n",
      "No data found for feed: MiraiSecurityIp\n",
      "No data found for feed: OpenPhish\n",
      "No data found for feed: PhishingArmy\n",
      "No data found for feed: PhishingDatabase\n",
      "No data found for feed: PhishStats\n",
      "No data found for feed: PhishTank\n",
      "No data found for feed: ProofPointIp\n",
      "No data found for feed: PhishingArmy\n",
      "No data found for feed: TweetFeed\n",
      "No data found for feed: UrlAbuse\n",
      "No data found for feed: UrlHaus\n",
      "No data found for feed: Valdin\n"
     ]
    },
    {
     "name": "stdout",
     "output_type": "stream",
     "text": [
      "Async took 5.28 seconds\n",
      "Async took 5.28 s\n",
      "Sync took 0.01 seconds\n",
      "Sync took 0.01 s\n",
      "\n",
      "--- Run 4 ---\n"
     ]
    },
    {
     "name": "stderr",
     "output_type": "stream",
     "text": [
      "Error fetching https://openphish.com/feed.txt: \n",
      "Skipping save - No data fetched for OpenPhish\n",
      "No data found for feed: BinaryDefenceIP\n",
      "No data found for feed: BlocklistDeIP\n",
      "No data found for feed: Botvrij\n",
      "No data found for feed: C2IntelDomain\n",
      "No data found for feed: C2TrackerIp\n",
      "No data found for feed: CertPl\n",
      "No data found for feed: GreenSnowIp\n",
      "No data found for feed: MiraiSecurityIp\n",
      "No data found for feed: OpenPhish\n",
      "No data found for feed: PhishingArmy\n",
      "No data found for feed: PhishingDatabase\n",
      "No data found for feed: PhishStats\n",
      "No data found for feed: PhishTank\n",
      "No data found for feed: ProofPointIp\n",
      "No data found for feed: PhishingArmy\n",
      "No data found for feed: TweetFeed\n",
      "No data found for feed: UrlAbuse\n",
      "No data found for feed: UrlHaus\n",
      "No data found for feed: Valdin\n"
     ]
    },
    {
     "name": "stdout",
     "output_type": "stream",
     "text": [
      "Async took 5.81 seconds\n",
      "Async took 5.81 s\n",
      "Sync took 0.01 seconds\n",
      "Sync took 0.01 s\n",
      "\n",
      "--- Run 5 ---\n"
     ]
    },
    {
     "name": "stderr",
     "output_type": "stream",
     "text": [
      "No data found for feed: BinaryDefenceIP\n",
      "No data found for feed: BlocklistDeIP\n",
      "No data found for feed: Botvrij\n",
      "No data found for feed: C2IntelDomain\n",
      "No data found for feed: C2TrackerIp\n",
      "No data found for feed: CertPl\n",
      "No data found for feed: GreenSnowIp\n",
      "No data found for feed: MiraiSecurityIp\n",
      "No data found for feed: OpenPhish\n",
      "No data found for feed: PhishingArmy\n",
      "No data found for feed: PhishingDatabase\n",
      "No data found for feed: PhishStats\n",
      "No data found for feed: PhishTank\n",
      "No data found for feed: ProofPointIp\n",
      "No data found for feed: PhishingArmy\n",
      "No data found for feed: TweetFeed\n",
      "No data found for feed: UrlAbuse\n",
      "No data found for feed: UrlHaus\n",
      "No data found for feed: Valdin\n"
     ]
    },
    {
     "name": "stdout",
     "output_type": "stream",
     "text": [
      "Async took 5.07 seconds\n",
      "Async took 5.07 s\n",
      "Sync took 0.01 seconds\n",
      "Sync took 0.01 s\n",
      "\n",
      "Average async time: 5.36 s\n",
      "Average sync time: 0.01 s\n"
     ]
    }
   ],
   "execution_count": 19
  },
  {
   "metadata": {
    "ExecuteTime": {
     "end_time": "2025-05-28T09:25:40.408213Z",
     "start_time": "2025-05-28T09:25:40.406525Z"
    }
   },
   "cell_type": "code",
   "source": "",
   "id": "f481aa776fe830c5",
   "outputs": [],
   "execution_count": null
  }
 ],
 "metadata": {
  "kernelspec": {
   "display_name": "Python 3",
   "language": "python",
   "name": "python3"
  },
  "language_info": {
   "codemirror_mode": {
    "name": "ipython",
    "version": 2
   },
   "file_extension": ".py",
   "mimetype": "text/x-python",
   "name": "python",
   "nbconvert_exporter": "python",
   "pygments_lexer": "ipython2",
   "version": "2.7.6"
  }
 },
 "nbformat": 4,
 "nbformat_minor": 5
}
