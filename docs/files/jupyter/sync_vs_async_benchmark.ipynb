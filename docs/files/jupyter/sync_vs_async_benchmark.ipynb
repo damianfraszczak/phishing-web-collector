{
 "cells": [
  {
   "metadata": {},
   "cell_type": "markdown",
   "source": [
    "# Introduction\n",
    "\n",
    "This notebook benchmarks the performance of synchronous vs asynchronous retrieval of phishing entries from various feeds. For the asynchronous retrieval, it uses the `asyncio` library to run multiple feed retrievals concurrently. The synchronous retrieval runs each feed one after the other.\n"
   ],
   "id": "1cbeecbff4306674"
  },
  {
   "metadata": {},
   "cell_type": "markdown",
   "source": "# Installation\n",
   "id": "d7a45babfa4d269"
  },
  {
   "metadata": {
    "ExecuteTime": {
     "end_time": "2025-05-26T05:08:41.206068Z",
     "start_time": "2025-05-26T05:08:40.898820Z"
    }
   },
   "cell_type": "code",
   "source": "!pip phishing-web-collector",
   "id": "dcb722d1129eb76b",
   "outputs": [
    {
     "name": "stderr",
     "output_type": "stream",
     "text": [
      "ERROR: unknown command \"phishing-web-collector\"\n",
      "\n"
     ]
    }
   ],
   "execution_count": 16
  },
  {
   "metadata": {},
   "cell_type": "markdown",
   "source": "# Import libraries  ",
   "id": "8805a65d0878c361"
  },
  {
   "metadata": {
    "ExecuteTime": {
     "end_time": "2025-05-26T05:08:41.215706Z",
     "start_time": "2025-05-26T05:08:41.207499Z"
    }
   },
   "cell_type": "code",
   "source": [
    "import asyncio\n",
    "import shutil\n",
    "import time\n",
    "from pathlib import Path\n",
    "\n",
    "from phishing_web_collector import FeedSource\n",
    "from phishing_web_collector.feed_manager import SOURCES_MAP"
   ],
   "id": "5b1d3f87bb2d4656",
   "outputs": [],
   "execution_count": 17
  },
  {
   "metadata": {},
   "cell_type": "markdown",
   "source": "# Configure experiment\n",
   "id": "4141183e5ae85332"
  },
  {
   "metadata": {
    "ExecuteTime": {
     "end_time": "2025-05-26T05:08:41.225409Z",
     "start_time": "2025-05-26T05:08:41.221737Z"
    }
   },
   "cell_type": "code",
   "source": [
    "sources = list(FeedSource)\n",
    "N_RUNS = 5\n",
    "SYNC_DIR = Path(\"sync_check\")\n",
    "ASYNC_DIR = Path(\"async_check\")\n",
    "\n",
    "def clear_dir(path: Path):\n",
    "    if path.exists():\n",
    "        shutil.rmtree(path)\n",
    "    path.mkdir(parents=True)\n"
   ],
   "id": "7e41453b2a2b45ea",
   "outputs": [],
   "execution_count": 18
  },
  {
   "metadata": {},
   "cell_type": "markdown",
   "source": "# Async and Sync functions",
   "id": "b61c7dbd0d84b79b"
  },
  {
   "metadata": {
    "ExecuteTime": {
     "end_time": "2025-05-26T05:08:41.238042Z",
     "start_time": "2025-05-26T05:08:41.229706Z"
    }
   },
   "cell_type": "code",
   "source": [
    "\n",
    "def retrieve_all_sync() -> float:\n",
    "    \"\"\"Retrieve all phishing entries from all feeds synchronously (sequentially).\"\"\"\n",
    "    providers = [SOURCES_MAP[source](\"sync_check\") for source in\n",
    "                 sources]\n",
    "    start = time.perf_counter()\n",
    "    entries = []\n",
    "    for provider in providers:\n",
    "        entries.extend(provider.retrieve())\n",
    "    duration = time.perf_counter() - start\n",
    "    print(f\"Sync took {duration:.2f} seconds\")\n",
    "    return duration\n",
    "\n",
    "\n",
    "async def retrieve_all() -> float:\n",
    "    \"\"\"Retrieve all phishing entries from all feeds asynchronously.\"\"\"\n",
    "    providers = [SOURCES_MAP[source](\"async_check\") for source in\n",
    "                 sources]\n",
    "    start = time.perf_counter()\n",
    "    results = await asyncio.gather(\n",
    "        *(asyncio.to_thread(provider.retrieve) for provider in\n",
    "          providers)\n",
    "    )\n",
    "    entries = [entry for result in results for entry in result]\n",
    "    duration = time.perf_counter() - start\n",
    "    print(f\"Async took {duration:.2f} seconds\")\n",
    "    return duration"
   ],
   "id": "c1d1c550a4690f39",
   "outputs": [],
   "execution_count": 19
  },
  {
   "metadata": {},
   "cell_type": "markdown",
   "source": "# Benchmark logic",
   "id": "14f2b88050a8c12"
  },
  {
   "metadata": {
    "ExecuteTime": {
     "end_time": "2025-05-26T05:08:41.247088Z",
     "start_time": "2025-05-26T05:08:41.242751Z"
    }
   },
   "cell_type": "code",
   "source": [
    "\n",
    "async def run_benchmark():\n",
    "    sync_times = []\n",
    "    async_times = []\n",
    "\n",
    "    for i in range(N_RUNS):\n",
    "        print(f\"\\n--- Run {i + 1} ---\")\n",
    "        clear_dir(SYNC_DIR)\n",
    "        clear_dir(ASYNC_DIR)\n",
    "\n",
    "        # Async\n",
    "        async_time = await retrieve_all()\n",
    "        async_times.append(async_time)\n",
    "        print(f\"Async took {async_time:.2f} s\")\n",
    "\n",
    "        # Sync\n",
    "        sync_time = retrieve_all_sync()\n",
    "        sync_times.append(sync_time)\n",
    "        print(f\"Sync took {sync_time:.2f} s\")\n",
    "\n",
    "    avg_async = sum(async_times) / N_RUNS\n",
    "    avg_sync = sum(sync_times) / N_RUNS\n",
    "\n",
    "    print(f\"\\nAverage async time: {avg_async:.2f} s\")\n",
    "    print(f\"Average sync time: {avg_sync:.2f} s\")"
   ],
   "id": "cc1f6c09818d6682",
   "outputs": [],
   "execution_count": 20
  },
  {
   "metadata": {},
   "cell_type": "markdown",
   "source": "# Run the benchmark",
   "id": "7e4ed452a89a106a"
  },
  {
   "metadata": {
    "ExecuteTime": {
     "end_time": "2025-05-26T05:08:44.769274Z",
     "start_time": "2025-05-26T05:08:41.251459Z"
    }
   },
   "cell_type": "code",
   "source": "await run_benchmark()",
   "id": "760cfc0a1c08a285",
   "outputs": [
    {
     "name": "stdout",
     "output_type": "stream",
     "text": [
      "\n",
      "--- Run 1 ---\n"
     ]
    },
    {
     "name": "stderr",
     "output_type": "stream",
     "text": [
      "Skipping save - No data fetched for PhishingDatabase\n",
      "No data found for feed: PhishingDatabase\n",
      "Failed to fetch https://phishstats.info/phish_score.csv - Status: 404\n",
      "Skipping save - No data fetched for PhishStats\n"
     ]
    },
    {
     "name": "stdout",
     "output_type": "stream",
     "text": [
      "Async took 3.29 seconds\n",
      "Async took 3.29 s\n"
     ]
    },
    {
     "ename": "RuntimeError",
     "evalue": "asyncio.run() cannot be called from a running event loop",
     "output_type": "error",
     "traceback": [
      "\u001B[31m---------------------------------------------------------------------------\u001B[39m",
      "\u001B[31mRuntimeError\u001B[39m                              Traceback (most recent call last)",
      "\u001B[36mCell\u001B[39m\u001B[36m \u001B[39m\u001B[32mIn[21]\u001B[39m\u001B[32m, line 1\u001B[39m\n\u001B[32m----> \u001B[39m\u001B[32m1\u001B[39m \u001B[38;5;28;01mawait\u001B[39;00m run_benchmark()\n",
      "\u001B[36mCell\u001B[39m\u001B[36m \u001B[39m\u001B[32mIn[20]\u001B[39m\u001B[32m, line 16\u001B[39m, in \u001B[36mrun_benchmark\u001B[39m\u001B[34m()\u001B[39m\n\u001B[32m     13\u001B[39m \u001B[38;5;28mprint\u001B[39m(\u001B[33mf\u001B[39m\u001B[33m\"\u001B[39m\u001B[33mAsync took \u001B[39m\u001B[38;5;132;01m{\u001B[39;00masync_time\u001B[38;5;132;01m:\u001B[39;00m\u001B[33m.2f\u001B[39m\u001B[38;5;132;01m}\u001B[39;00m\u001B[33m s\u001B[39m\u001B[33m\"\u001B[39m)\n\u001B[32m     15\u001B[39m \u001B[38;5;66;03m# Sync\u001B[39;00m\n\u001B[32m---> \u001B[39m\u001B[32m16\u001B[39m sync_time = \u001B[43mretrieve_all_sync\u001B[49m\u001B[43m(\u001B[49m\u001B[43m)\u001B[49m\n\u001B[32m     17\u001B[39m sync_times.append(sync_time)\n\u001B[32m     18\u001B[39m \u001B[38;5;28mprint\u001B[39m(\u001B[33mf\u001B[39m\u001B[33m\"\u001B[39m\u001B[33mSync took \u001B[39m\u001B[38;5;132;01m{\u001B[39;00msync_time\u001B[38;5;132;01m:\u001B[39;00m\u001B[33m.2f\u001B[39m\u001B[38;5;132;01m}\u001B[39;00m\u001B[33m s\u001B[39m\u001B[33m\"\u001B[39m)\n",
      "\u001B[36mCell\u001B[39m\u001B[36m \u001B[39m\u001B[32mIn[19]\u001B[39m\u001B[32m, line 8\u001B[39m, in \u001B[36mretrieve_all_sync\u001B[39m\u001B[34m()\u001B[39m\n\u001B[32m      6\u001B[39m entries = []\n\u001B[32m      7\u001B[39m \u001B[38;5;28;01mfor\u001B[39;00m provider \u001B[38;5;129;01min\u001B[39;00m providers:\n\u001B[32m----> \u001B[39m\u001B[32m8\u001B[39m     entries.extend(\u001B[43mprovider\u001B[49m\u001B[43m.\u001B[49m\u001B[43mretrieve\u001B[49m\u001B[43m(\u001B[49m\u001B[43m)\u001B[49m)\n\u001B[32m      9\u001B[39m duration = time.perf_counter() - start\n\u001B[32m     10\u001B[39m \u001B[38;5;28mprint\u001B[39m(\u001B[33mf\u001B[39m\u001B[33m\"\u001B[39m\u001B[33mSync took \u001B[39m\u001B[38;5;132;01m{\u001B[39;00mduration\u001B[38;5;132;01m:\u001B[39;00m\u001B[33m.2f\u001B[39m\u001B[38;5;132;01m}\u001B[39;00m\u001B[33m seconds\u001B[39m\u001B[33m\"\u001B[39m)\n",
      "\u001B[36mFile \u001B[39m\u001B[32m~\\PycharmProjects\\phishing-web-collector\\src\\phishing_web_collector\\feeds\\feed.py:59\u001B[39m, in \u001B[36mAbstractFeed.retrieve\u001B[39m\u001B[34m(self)\u001B[39m\n\u001B[32m     58\u001B[39m \u001B[38;5;28;01mdef\u001B[39;00m\u001B[38;5;250m \u001B[39m\u001B[34mretrieve\u001B[39m(\u001B[38;5;28mself\u001B[39m) -> List[PhishingEntry]:\n\u001B[32m---> \u001B[39m\u001B[32m59\u001B[39m     \u001B[43masyncio\u001B[49m\u001B[43m.\u001B[49m\u001B[43mrun\u001B[49m\u001B[43m(\u001B[49m\u001B[38;5;28;43mself\u001B[39;49m\u001B[43m.\u001B[49m\u001B[43mrefresh\u001B[49m\u001B[43m(\u001B[49m\u001B[43m)\u001B[49m\u001B[43m)\u001B[49m\n\u001B[32m     60\u001B[39m     all_files = \u001B[38;5;28msorted\u001B[39m(\u001B[38;5;28mself\u001B[39m.storage_path.iterdir(), key=\u001B[38;5;28;01mlambda\u001B[39;00m f: f.stat().st_mtime)\n\u001B[32m     61\u001B[39m     \u001B[38;5;28;01mif\u001B[39;00m \u001B[38;5;129;01mnot\u001B[39;00m all_files:\n",
      "\u001B[36mFile \u001B[39m\u001B[32m~\\AppData\\Local\\Programs\\Python\\Python312\\Lib\\asyncio\\runners.py:190\u001B[39m, in \u001B[36mrun\u001B[39m\u001B[34m(main, debug, loop_factory)\u001B[39m\n\u001B[32m    161\u001B[39m \u001B[38;5;250m\u001B[39m\u001B[33;03m\"\"\"Execute the coroutine and return the result.\u001B[39;00m\n\u001B[32m    162\u001B[39m \n\u001B[32m    163\u001B[39m \u001B[33;03mThis function runs the passed coroutine, taking care of\u001B[39;00m\n\u001B[32m   (...)\u001B[39m\u001B[32m    186\u001B[39m \u001B[33;03m    asyncio.run(main())\u001B[39;00m\n\u001B[32m    187\u001B[39m \u001B[33;03m\"\"\"\u001B[39;00m\n\u001B[32m    188\u001B[39m \u001B[38;5;28;01mif\u001B[39;00m events._get_running_loop() \u001B[38;5;129;01mis\u001B[39;00m \u001B[38;5;129;01mnot\u001B[39;00m \u001B[38;5;28;01mNone\u001B[39;00m:\n\u001B[32m    189\u001B[39m     \u001B[38;5;66;03m# fail fast with short traceback\u001B[39;00m\n\u001B[32m--> \u001B[39m\u001B[32m190\u001B[39m     \u001B[38;5;28;01mraise\u001B[39;00m \u001B[38;5;167;01mRuntimeError\u001B[39;00m(\n\u001B[32m    191\u001B[39m         \u001B[33m\"\u001B[39m\u001B[33masyncio.run() cannot be called from a running event loop\u001B[39m\u001B[33m\"\u001B[39m)\n\u001B[32m    193\u001B[39m \u001B[38;5;28;01mwith\u001B[39;00m Runner(debug=debug, loop_factory=loop_factory) \u001B[38;5;28;01mas\u001B[39;00m runner:\n\u001B[32m    194\u001B[39m     \u001B[38;5;28;01mreturn\u001B[39;00m runner.run(main)\n",
      "\u001B[31mRuntimeError\u001B[39m: asyncio.run() cannot be called from a running event loop"
     ]
    }
   ],
   "execution_count": 21
  },
  {
   "metadata": {},
   "cell_type": "code",
   "outputs": [],
   "execution_count": null,
   "source": "",
   "id": "f481aa776fe830c5"
  }
 ],
 "metadata": {
  "kernelspec": {
   "display_name": "Python 3",
   "language": "python",
   "name": "python3"
  },
  "language_info": {
   "codemirror_mode": {
    "name": "ipython",
    "version": 2
   },
   "file_extension": ".py",
   "mimetype": "text/x-python",
   "name": "python",
   "nbconvert_exporter": "python",
   "pygments_lexer": "ipython2",
   "version": "2.7.6"
  }
 },
 "nbformat": 4,
 "nbformat_minor": 5
}
