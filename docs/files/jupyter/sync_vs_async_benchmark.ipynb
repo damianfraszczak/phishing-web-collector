{
 "cells": [
  {
   "metadata": {},
   "cell_type": "markdown",
   "source": [
    "# Introduction\n",
    "\n",
    "This notebook benchmarks the performance of synchronous vs asynchronous retrieval of phishing entries from various feeds. For the asynchronous retrieval, it uses the `asyncio` library to run multiple feed retrievals concurrently. The synchronous retrieval runs each feed one after the other.\n"
   ],
   "id": "1cbeecbff4306674"
  },
  {
   "metadata": {},
   "cell_type": "markdown",
   "source": "# Installation\n",
   "id": "d7a45babfa4d269"
  },
  {
   "metadata": {
    "ExecuteTime": {
     "end_time": "2025-06-01T05:40:25.429835Z",
     "start_time": "2025-06-01T05:40:22.776287Z"
    }
   },
   "cell_type": "code",
   "source": "!pip install phishing-web-collector>=0.2.0",
   "id": "dcb722d1129eb76b",
   "outputs": [
    {
     "name": "stderr",
     "output_type": "stream",
     "text": [
      "\n",
      "[notice] A new release of pip is available: 25.0.1 -> 25.1.1\n",
      "[notice] To update, run: python.exe -m pip install --upgrade pip\n"
     ]
    }
   ],
   "execution_count": 1
  },
  {
   "metadata": {},
   "cell_type": "markdown",
   "source": "# Import libraries  ",
   "id": "8805a65d0878c361"
  },
  {
   "metadata": {
    "ExecuteTime": {
     "end_time": "2025-06-01T05:40:25.867104Z",
     "start_time": "2025-06-01T05:40:25.500923Z"
    }
   },
   "cell_type": "code",
   "source": [
    "import asyncio\n",
    "import shutil\n",
    "import time\n",
    "from pathlib import Path\n",
    "\n",
    "from phishing_web_collector import FeedSource\n",
    "from phishing_web_collector.feed_manager import SOURCES_MAP"
   ],
   "id": "5b1d3f87bb2d4656",
   "outputs": [],
   "execution_count": 2
  },
  {
   "metadata": {},
   "cell_type": "markdown",
   "source": "# Configure experiment\n",
   "id": "4141183e5ae85332"
  },
  {
   "metadata": {
    "ExecuteTime": {
     "end_time": "2025-06-01T05:40:26.215721Z",
     "start_time": "2025-06-01T05:40:26.211407Z"
    }
   },
   "cell_type": "code",
   "source": [
    "sources = [\n",
    "        FeedSource.AD_GUARD_HOME,\n",
    "        FeedSource.BINARY_DEFENCE_IP,\n",
    "        FeedSource.BLOCKLIST_DE_IP,\n",
    "        FeedSource.BOTVRIJ,\n",
    "        FeedSource.C2_INTEL_DOMAIN,\n",
    "        FeedSource.C2_TRACKER_IP,\n",
    "        FeedSource.CERT_PL,\n",
    "        FeedSource.DANGEROUS_DOMAINS,\n",
    "        FeedSource.GREEN_SNOW_IP,\n",
    "        FeedSource.MALWARE_WORLD,\n",
    "        FeedSource.MIRAI_SECURITY_IP,\n",
    "        FeedSource.OPEN_PHISH,\n",
    "        FeedSource.PHISHING_ARMY,\n",
    "        FeedSource.PHISHING_DATABASE,\n",
    "        FeedSource.PHISH_STATS,\n",
    "        FeedSource.PHISH_TANK,\n",
    "        FeedSource.PROOF_POINT_IP,\n",
    "        FeedSource.THREAT_VIEW_DOMAIN,\n",
    "        FeedSource.TWEET_FEED,\n",
    "        FeedSource.URL_ABUSE,\n",
    "        FeedSource.URL_HAUS,\n",
    "        FeedSource.VALDIN,\n",
    "]\n",
    "N_RUNS = 5\n",
    "SYNC_DIR = Path(\"sync_check\")\n",
    "ASYNC_DIR = Path(\"async_check\")\n",
    "\n",
    "def clear_dir(path: Path):\n",
    "    if path.exists():\n",
    "        shutil.rmtree(path)\n",
    "    path.mkdir(parents=True)\n"
   ],
   "id": "7e41453b2a2b45ea",
   "outputs": [],
   "execution_count": 3
  },
  {
   "metadata": {},
   "cell_type": "markdown",
   "source": "# Async and Sync functions",
   "id": "b61c7dbd0d84b79b"
  },
  {
   "metadata": {
    "ExecuteTime": {
     "end_time": "2025-06-01T05:40:26.224832Z",
     "start_time": "2025-06-01T05:40:26.220024Z"
    }
   },
   "cell_type": "code",
   "source": [
    "\n",
    "def retrieve_all_sync() -> float:\n",
    "    \"\"\"Retrieve all phishing entries from all feeds synchronously (sequentially).\"\"\"\n",
    "    providers = [SOURCES_MAP[source](\"sync_check\") for source in\n",
    "                 sources]\n",
    "    start = time.perf_counter()\n",
    "    entries = []\n",
    "    for provider in providers:\n",
    "        entries.extend(provider.retrieve_sync())\n",
    "    duration = time.perf_counter() - start\n",
    "    print(f\"Sync took {duration:.2f} seconds\")\n",
    "    return duration\n",
    "\n",
    "\n",
    "async def retrieve_all() -> float:\n",
    "    \"\"\"Retrieve all phishing entries from all feeds asynchronously.\"\"\"\n",
    "    providers = [SOURCES_MAP[source](\"async_check\") for source in\n",
    "                 sources]\n",
    "    start = time.perf_counter()\n",
    "    results = await asyncio.gather(*(provider.retrieve() for provider in providers))\n",
    "    entries = [entry for result in results for entry in result]\n",
    "    duration = time.perf_counter() - start\n",
    "    print(f\"Async took {duration:.2f} seconds\")\n",
    "    return duration"
   ],
   "id": "c1d1c550a4690f39",
   "outputs": [],
   "execution_count": 4
  },
  {
   "metadata": {},
   "cell_type": "markdown",
   "source": "# Benchmark logic",
   "id": "14f2b88050a8c12"
  },
  {
   "metadata": {
    "ExecuteTime": {
     "end_time": "2025-06-01T05:40:26.262843Z",
     "start_time": "2025-06-01T05:40:26.257875Z"
    }
   },
   "cell_type": "code",
   "source": [
    "\n",
    "async def run_benchmark():\n",
    "    sync_times = []\n",
    "    async_times = []\n",
    "\n",
    "    for i in range(N_RUNS):\n",
    "        print(f\"\\n--- Run {i + 1} ---\")\n",
    "        clear_dir(SYNC_DIR)\n",
    "        clear_dir(ASYNC_DIR)\n",
    "\n",
    "        # Async\n",
    "        async_time = await retrieve_all()\n",
    "        async_times.append(async_time)\n",
    "        print(f\"Async took {async_time:.2f} s\")\n",
    "\n",
    "        # Sync\n",
    "        sync_time = retrieve_all_sync()\n",
    "        sync_times.append(sync_time)\n",
    "        print(f\"Sync took {sync_time:.2f} s\")\n",
    "\n",
    "    avg_async = sum(async_times) / N_RUNS\n",
    "    avg_sync = sum(sync_times) / N_RUNS\n",
    "\n",
    "    print(f\"\\nAverage async time: {avg_async:.2f} s\")\n",
    "    print(f\"Average sync time: {avg_sync:.2f} s\")"
   ],
   "id": "cc1f6c09818d6682",
   "outputs": [],
   "execution_count": 5
  },
  {
   "metadata": {},
   "cell_type": "markdown",
   "source": "# Run the benchmark",
   "id": "7e4ed452a89a106a"
  },
  {
   "metadata": {
    "ExecuteTime": {
     "end_time": "2025-06-01T05:44:27.185779Z",
     "start_time": "2025-06-01T05:40:26.262843Z"
    }
   },
   "cell_type": "code",
   "source": "await run_benchmark()",
   "id": "760cfc0a1c08a285",
   "outputs": [
    {
     "name": "stdout",
     "output_type": "stream",
     "text": [
      "\n",
      "--- Run 1 ---\n"
     ]
    },
    {
     "name": "stderr",
     "output_type": "stream",
     "text": [
      "Error fetching https://raw.githubusercontent.com/Ealenn/AdGuard-Home-List/gh-pages/AdGuard-Home-List.Block.txt: \n",
      "Skipping save - No data fetched for AdGuardHomeFeed\n",
      "No data found for feed: AdGuardHomeFeed\n",
      "Error fetching https://raw.githubusercontent.com/ProKn1fe/phishtank-database/master/online-valid.json: \n",
      "Skipping save - No data fetched for PhishTank\n",
      "No data found for feed: PhishTank\n"
     ]
    },
    {
     "name": "stdout",
     "output_type": "stream",
     "text": [
      "Async took 10.91 seconds\n",
      "Async took 10.91 s\n",
      "Sync took 36.07 seconds\n",
      "Sync took 36.07 s\n",
      "\n",
      "--- Run 2 ---\n"
     ]
    },
    {
     "name": "stderr",
     "output_type": "stream",
     "text": [
      "Error fetching https://hole.cert.pl/domains/domains.csv: \n",
      "Skipping save - No data fetched for CertPl\n",
      "No data found for feed: CertPl\n",
      "Error fetching https://raw.githubusercontent.com/ProKn1fe/phishtank-database/master/online-valid.json: \n",
      "Skipping save - No data fetched for PhishTank\n",
      "No data found for feed: PhishTank\n",
      "Error fetching https://raw.githubusercontent.com/Ealenn/AdGuard-Home-List/gh-pages/AdGuard-Home-List.Block.txt: \n",
      "Skipping save - No data fetched for AdGuardHomeFeed\n",
      "No data found for feed: AdGuardHomeFeed\n"
     ]
    },
    {
     "name": "stdout",
     "output_type": "stream",
     "text": [
      "Async took 10.83 seconds\n",
      "Async took 10.83 s\n",
      "Sync took 49.15 seconds\n",
      "Sync took 49.15 s\n",
      "\n",
      "--- Run 3 ---\n"
     ]
    },
    {
     "name": "stderr",
     "output_type": "stream",
     "text": [
      "Error fetching https://raw.githubusercontent.com/Ealenn/AdGuard-Home-List/gh-pages/AdGuard-Home-List.Block.txt: \n",
      "Skipping save - No data fetched for AdGuardHomeFeed\n",
      "No data found for feed: AdGuardHomeFeed\n"
     ]
    },
    {
     "name": "stdout",
     "output_type": "stream",
     "text": [
      "Async took 12.09 seconds\n",
      "Async took 12.09 s\n"
     ]
    },
    {
     "name": "stderr",
     "output_type": "stream",
     "text": [
      "Error fetching https://dangerous.domains/list.txt: HTTPSConnectionPool(host='dangerous.domains', port=443): Read timed out. (read timeout=10)\n",
      "Skipping save - No data fetched for DangerousDomains\n",
      "No data found for feed: DangerousDomains\n"
     ]
    },
    {
     "name": "stdout",
     "output_type": "stream",
     "text": [
      "Sync took 31.21 seconds\n",
      "Sync took 31.21 s\n",
      "\n",
      "--- Run 4 ---\n"
     ]
    },
    {
     "name": "stderr",
     "output_type": "stream",
     "text": [
      "Error fetching https://raw.githubusercontent.com/Ealenn/AdGuard-Home-List/gh-pages/AdGuard-Home-List.Block.txt: \n",
      "Skipping save - No data fetched for AdGuardHomeFeed\n",
      "No data found for feed: AdGuardHomeFeed\n",
      "Error fetching https://dangerous.domains/list.txt: \n",
      "Skipping save - No data fetched for DangerousDomains\n",
      "No data found for feed: DangerousDomains\n"
     ]
    },
    {
     "name": "stdout",
     "output_type": "stream",
     "text": [
      "Async took 10.59 seconds\n",
      "Async took 10.59 s\n"
     ]
    },
    {
     "name": "stderr",
     "output_type": "stream",
     "text": [
      "Error fetching https://dangerous.domains/list.txt: HTTPSConnectionPool(host='dangerous.domains', port=443): Read timed out. (read timeout=10)\n",
      "Skipping save - No data fetched for DangerousDomains\n",
      "No data found for feed: DangerousDomains\n"
     ]
    },
    {
     "name": "stdout",
     "output_type": "stream",
     "text": [
      "Sync took 30.83 seconds\n",
      "Sync took 30.83 s\n",
      "\n",
      "--- Run 5 ---\n"
     ]
    },
    {
     "name": "stderr",
     "output_type": "stream",
     "text": [
      "Error fetching https://raw.githubusercontent.com/Ealenn/AdGuard-Home-List/gh-pages/AdGuard-Home-List.Block.txt: \n",
      "Skipping save - No data fetched for AdGuardHomeFeed\n",
      "No data found for feed: AdGuardHomeFeed\n",
      "Error fetching https://dangerous.domains/list.txt: \n",
      "Skipping save - No data fetched for DangerousDomains\n",
      "No data found for feed: DangerousDomains\n"
     ]
    },
    {
     "name": "stdout",
     "output_type": "stream",
     "text": [
      "Async took 10.40 seconds\n",
      "Async took 10.40 s\n"
     ]
    },
    {
     "name": "stderr",
     "output_type": "stream",
     "text": [
      "Error fetching https://dangerous.domains/list.txt: HTTPSConnectionPool(host='dangerous.domains', port=443): Read timed out. (read timeout=10)\n",
      "Skipping save - No data fetched for DangerousDomains\n",
      "No data found for feed: DangerousDomains\n"
     ]
    },
    {
     "name": "stdout",
     "output_type": "stream",
     "text": [
      "Sync took 34.07 seconds\n",
      "Sync took 34.07 s\n",
      "\n",
      "Average async time: 10.96 s\n",
      "Average sync time: 36.27 s\n"
     ]
    }
   ],
   "execution_count": 6
  },
  {
   "metadata": {
    "ExecuteTime": {
     "end_time": "2025-06-01T05:44:27.196875Z",
     "start_time": "2025-06-01T05:44:27.191621Z"
    }
   },
   "cell_type": "code",
   "source": "",
   "id": "f481aa776fe830c5",
   "outputs": [],
   "execution_count": null
  }
 ],
 "metadata": {
  "kernelspec": {
   "display_name": "Python 3",
   "language": "python",
   "name": "python3"
  },
  "language_info": {
   "codemirror_mode": {
    "name": "ipython",
    "version": 2
   },
   "file_extension": ".py",
   "mimetype": "text/x-python",
   "name": "python",
   "nbconvert_exporter": "python",
   "pygments_lexer": "ipython2",
   "version": "2.7.6"
  }
 },
 "nbformat": 4,
 "nbformat_minor": 5
}
