{
 "cells": [
  {
   "metadata": {},
   "cell_type": "markdown",
   "source": [
    "# Introduction\n",
    "\n",
    "This notebook benchmarks the performance of synchronous vs asynchronous retrieval of phishing entries from various feeds. For the asynchronous retrieval, it uses the `asyncio` library to run multiple feed retrievals concurrently. The synchronous retrieval runs each feed one after the other.\n"
   ],
   "id": "1cbeecbff4306674"
  },
  {
   "metadata": {},
   "cell_type": "markdown",
   "source": "# Installation\n",
   "id": "d7a45babfa4d269"
  },
  {
   "metadata": {
    "ExecuteTime": {
     "end_time": "2025-05-28T09:07:56.585064Z",
     "start_time": "2025-05-28T09:07:54.187991Z"
    }
   },
   "cell_type": "code",
   "source": "!pip install phishing-web-collector",
   "id": "dcb722d1129eb76b",
   "outputs": [
    {
     "name": "stdout",
     "output_type": "stream",
     "text": [
      "Collecting phishing-web-collector\r\n",
      "  Downloading phishing_web_collector-0.1.2.tar.gz (15 kB)\r\n",
      "  Preparing metadata (setup.py) ... \u001B[?25ldone\r\n",
      "\u001B[?25hRequirement already satisfied: aiohttp in /home/efraszczak/programowanie/phishing-web-collector/venv/lib/python3.10/site-packages (from phishing-web-collector) (3.11.12)\r\n",
      "Requirement already satisfied: aiohappyeyeballs>=2.3.0 in /home/efraszczak/programowanie/phishing-web-collector/venv/lib/python3.10/site-packages (from aiohttp->phishing-web-collector) (2.4.6)\r\n",
      "Requirement already satisfied: aiosignal>=1.1.2 in /home/efraszczak/programowanie/phishing-web-collector/venv/lib/python3.10/site-packages (from aiohttp->phishing-web-collector) (1.3.2)\r\n",
      "Requirement already satisfied: async-timeout<6.0,>=4.0 in /home/efraszczak/programowanie/phishing-web-collector/venv/lib/python3.10/site-packages (from aiohttp->phishing-web-collector) (5.0.1)\r\n",
      "Requirement already satisfied: attrs>=17.3.0 in /home/efraszczak/programowanie/phishing-web-collector/venv/lib/python3.10/site-packages (from aiohttp->phishing-web-collector) (25.1.0)\r\n",
      "Requirement already satisfied: frozenlist>=1.1.1 in /home/efraszczak/programowanie/phishing-web-collector/venv/lib/python3.10/site-packages (from aiohttp->phishing-web-collector) (1.5.0)\r\n",
      "Requirement already satisfied: multidict<7.0,>=4.5 in /home/efraszczak/programowanie/phishing-web-collector/venv/lib/python3.10/site-packages (from aiohttp->phishing-web-collector) (6.1.0)\r\n",
      "Requirement already satisfied: propcache>=0.2.0 in /home/efraszczak/programowanie/phishing-web-collector/venv/lib/python3.10/site-packages (from aiohttp->phishing-web-collector) (0.2.1)\r\n",
      "Requirement already satisfied: yarl<2.0,>=1.17.0 in /home/efraszczak/programowanie/phishing-web-collector/venv/lib/python3.10/site-packages (from aiohttp->phishing-web-collector) (1.18.3)\r\n",
      "Requirement already satisfied: typing-extensions>=4.1.0 in /home/efraszczak/programowanie/phishing-web-collector/venv/lib/python3.10/site-packages (from multidict<7.0,>=4.5->aiohttp->phishing-web-collector) (4.12.2)\r\n",
      "Requirement already satisfied: idna>=2.0 in /home/efraszczak/programowanie/phishing-web-collector/venv/lib/python3.10/site-packages (from yarl<2.0,>=1.17.0->aiohttp->phishing-web-collector) (3.10)\r\n",
      "Building wheels for collected packages: phishing-web-collector\r\n",
      "  Building wheel for phishing-web-collector (setup.py) ... \u001B[?25ldone\r\n",
      "\u001B[?25h  Created wheel for phishing-web-collector: filename=phishing_web_collector-0.1.2-py3-none-any.whl size=24191 sha256=f04f20f2a6d73f0363b4a168a2e79c2abcbf9e3d5fdaa86a9388cdf3758d0b11\r\n",
      "  Stored in directory: /home/efraszczak/.cache/pip/wheels/c4/ac/0c/0b7e7229de2d955a358e2080f3a97c2d9fdd97cc54c1744dcf\r\n",
      "Successfully built phishing-web-collector\r\n",
      "Installing collected packages: phishing-web-collector\r\n",
      "Successfully installed phishing-web-collector-0.1.2\r\n",
      "\r\n",
      "\u001B[1m[\u001B[0m\u001B[34;49mnotice\u001B[0m\u001B[1;39;49m]\u001B[0m\u001B[39;49m A new release of pip is available: \u001B[0m\u001B[31;49m24.3.1\u001B[0m\u001B[39;49m -> \u001B[0m\u001B[32;49m25.1.1\u001B[0m\r\n",
      "\u001B[1m[\u001B[0m\u001B[34;49mnotice\u001B[0m\u001B[1;39;49m]\u001B[0m\u001B[39;49m To update, run: \u001B[0m\u001B[32;49mpip install --upgrade pip\u001B[0m\r\n"
     ]
    }
   ],
   "execution_count": 1
  },
  {
   "metadata": {},
   "cell_type": "markdown",
   "source": "# Import libraries  ",
   "id": "8805a65d0878c361"
  },
  {
   "metadata": {
    "ExecuteTime": {
     "end_time": "2025-05-28T09:07:56.735935Z",
     "start_time": "2025-05-28T09:07:56.625805Z"
    }
   },
   "cell_type": "code",
   "source": [
    "import asyncio\n",
    "import shutil\n",
    "import time\n",
    "from pathlib import Path\n",
    "\n",
    "from phishing_web_collector import FeedSource\n",
    "from phishing_web_collector.feed_manager import SOURCES_MAP"
   ],
   "id": "5b1d3f87bb2d4656",
   "outputs": [],
   "execution_count": 2
  },
  {
   "metadata": {},
   "cell_type": "markdown",
   "source": "# Configure experiment\n",
   "id": "4141183e5ae85332"
  },
  {
   "metadata": {
    "ExecuteTime": {
     "end_time": "2025-05-28T09:07:56.912062Z",
     "start_time": "2025-05-28T09:07:56.906398Z"
    }
   },
   "cell_type": "code",
   "source": [
    "sources = list(FeedSource)\n",
    "N_RUNS = 5\n",
    "SYNC_DIR = Path(\"sync_check\")\n",
    "ASYNC_DIR = Path(\"async_check\")\n",
    "\n",
    "def clear_dir(path: Path):\n",
    "    if path.exists():\n",
    "        shutil.rmtree(path)\n",
    "    path.mkdir(parents=True)\n"
   ],
   "id": "7e41453b2a2b45ea",
   "outputs": [],
   "execution_count": 3
  },
  {
   "metadata": {},
   "cell_type": "markdown",
   "source": "# Async and Sync functions",
   "id": "b61c7dbd0d84b79b"
  },
  {
   "metadata": {
    "ExecuteTime": {
     "end_time": "2025-05-28T09:07:57.221405Z",
     "start_time": "2025-05-28T09:07:57.216790Z"
    }
   },
   "cell_type": "code",
   "source": [
    "\n",
    "def retrieve_all_sync() -> float:\n",
    "    \"\"\"Retrieve all phishing entries from all feeds synchronously (sequentially).\"\"\"\n",
    "    providers = [SOURCES_MAP[source](\"sync_check\") for source in\n",
    "                 sources]\n",
    "    start = time.perf_counter()\n",
    "    entries = []\n",
    "    for provider in providers:\n",
    "        entries.extend(provider.retrieve())\n",
    "    duration = time.perf_counter() - start\n",
    "    print(f\"Sync took {duration:.2f} seconds\")\n",
    "    return duration\n",
    "\n",
    "\n",
    "async def retrieve_all() -> float:\n",
    "    \"\"\"Retrieve all phishing entries from all feeds asynchronously.\"\"\"\n",
    "    providers = [SOURCES_MAP[source](\"async_check\") for source in\n",
    "                 sources]\n",
    "    start = time.perf_counter()\n",
    "    results = await asyncio.gather(\n",
    "        *(asyncio.to_thread(provider.retrieve) for provider in\n",
    "          providers)\n",
    "    )\n",
    "    entries = [entry for result in results for entry in result]\n",
    "    duration = time.perf_counter() - start\n",
    "    print(f\"Async took {duration:.2f} seconds\")\n",
    "    return duration"
   ],
   "id": "c1d1c550a4690f39",
   "outputs": [],
   "execution_count": 4
  },
  {
   "metadata": {},
   "cell_type": "markdown",
   "source": "# Benchmark logic",
   "id": "14f2b88050a8c12"
  },
  {
   "metadata": {
    "ExecuteTime": {
     "end_time": "2025-05-28T09:07:57.344783Z",
     "start_time": "2025-05-28T09:07:57.340903Z"
    }
   },
   "cell_type": "code",
   "source": [
    "\n",
    "async def run_benchmark():\n",
    "    sync_times = []\n",
    "    async_times = []\n",
    "\n",
    "    for i in range(N_RUNS):\n",
    "        print(f\"\\n--- Run {i + 1} ---\")\n",
    "        clear_dir(SYNC_DIR)\n",
    "        clear_dir(ASYNC_DIR)\n",
    "\n",
    "        # Async\n",
    "        async_time = await retrieve_all()\n",
    "        async_times.append(async_time)\n",
    "        print(f\"Async took {async_time:.2f} s\")\n",
    "\n",
    "        # Sync\n",
    "        sync_time = retrieve_all_sync()\n",
    "        sync_times.append(sync_time)\n",
    "        print(f\"Sync took {sync_time:.2f} s\")\n",
    "\n",
    "    avg_async = sum(async_times) / N_RUNS\n",
    "    avg_sync = sum(sync_times) / N_RUNS\n",
    "\n",
    "    print(f\"\\nAverage async time: {avg_async:.2f} s\")\n",
    "    print(f\"Average sync time: {avg_sync:.2f} s\")"
   ],
   "id": "cc1f6c09818d6682",
   "outputs": [],
   "execution_count": 5
  },
  {
   "metadata": {},
   "cell_type": "markdown",
   "source": "# Run the benchmark",
   "id": "7e4ed452a89a106a"
  },
  {
   "metadata": {
    "ExecuteTime": {
     "end_time": "2025-05-28T09:08:37.668479Z",
     "start_time": "2025-05-28T09:07:57.461681Z"
    }
   },
   "cell_type": "code",
   "source": "await run_benchmark()",
   "id": "760cfc0a1c08a285",
   "outputs": [
    {
     "name": "stdout",
     "output_type": "stream",
     "text": [
      "\n",
      "--- Run 1 ---\n"
     ]
    },
    {
     "name": "stderr",
     "output_type": "stream",
     "text": [
      "Failed to fetch https://phishstats.info/phish_score.csv - Status: 404\n",
      "Skipping save - No data fetched for PhishStats\n",
      "No data found for feed: BinaryDefenceIP\n",
      "No data found for feed: BlocklistDeIP\n",
      "No data found for feed: Botvrij\n",
      "No data found for feed: C2IntelDomain\n",
      "No data found for feed: C2TrackerIp\n",
      "No data found for feed: CertPl\n",
      "No data found for feed: GreenSnowIp\n",
      "No data found for feed: MiraiSecurityIp\n",
      "No data found for feed: OpenPhish\n",
      "No data found for feed: PhishingArmy\n",
      "No data found for feed: PhishingDatabase\n",
      "No data found for feed: PhishStats\n",
      "No data found for feed: PhishStats\n",
      "No data found for feed: PhishTank\n",
      "No data found for feed: ProofPointIp\n",
      "No data found for feed: PhishingArmy\n",
      "No data found for feed: TweetFeed\n",
      "No data found for feed: UrlAbuse\n",
      "No data found for feed: UrlHaus\n",
      "No data found for feed: Valdin\n"
     ]
    },
    {
     "name": "stdout",
     "output_type": "stream",
     "text": [
      "Async took 10.37 seconds\n",
      "Async took 10.37 s\n",
      "Sync took 0.01 seconds\n",
      "Sync took 0.01 s\n",
      "\n",
      "--- Run 2 ---\n"
     ]
    },
    {
     "name": "stderr",
     "output_type": "stream",
     "text": [
      "Failed to fetch https://phishstats.info/phish_score.csv - Status: 404\n",
      "Skipping save - No data fetched for PhishStats\n",
      "Failed to fetch https://phishstats.info/phish_score.csv - Status: 404\n",
      "Skipping save - No data fetched for PhishStats\n",
      "No data found for feed: BinaryDefenceIP\n",
      "No data found for feed: BlocklistDeIP\n",
      "No data found for feed: Botvrij\n",
      "No data found for feed: C2IntelDomain\n",
      "No data found for feed: C2TrackerIp\n",
      "No data found for feed: CertPl\n",
      "No data found for feed: GreenSnowIp\n",
      "No data found for feed: MiraiSecurityIp\n",
      "No data found for feed: OpenPhish\n",
      "No data found for feed: PhishingArmy\n",
      "No data found for feed: PhishingDatabase\n",
      "No data found for feed: PhishStats\n",
      "No data found for feed: PhishStats\n",
      "No data found for feed: PhishTank\n",
      "No data found for feed: ProofPointIp\n",
      "No data found for feed: PhishingArmy\n",
      "No data found for feed: TweetFeed\n",
      "No data found for feed: UrlAbuse\n",
      "No data found for feed: UrlHaus\n",
      "No data found for feed: Valdin\n"
     ]
    },
    {
     "name": "stdout",
     "output_type": "stream",
     "text": [
      "Async took 9.22 seconds\n",
      "Async took 9.22 s\n",
      "Sync took 0.01 seconds\n",
      "Sync took 0.01 s\n",
      "\n",
      "--- Run 3 ---\n"
     ]
    },
    {
     "name": "stderr",
     "output_type": "stream",
     "text": [
      "Failed to fetch https://phishstats.info/phish_score.csv - Status: 404\n",
      "Skipping save - No data fetched for PhishStats\n",
      "Error fetching https://hole.cert.pl/domains/domains.csv: \n",
      "Skipping save - No data fetched for CertPl\n",
      "Failed to fetch https://phishstats.info/phish_score.csv - Status: 404\n",
      "Skipping save - No data fetched for PhishStats\n",
      "No data found for feed: BinaryDefenceIP\n",
      "No data found for feed: BlocklistDeIP\n",
      "No data found for feed: Botvrij\n",
      "No data found for feed: C2IntelDomain\n",
      "No data found for feed: C2TrackerIp\n",
      "No data found for feed: CertPl\n",
      "No data found for feed: GreenSnowIp\n",
      "No data found for feed: MiraiSecurityIp\n",
      "No data found for feed: OpenPhish\n",
      "No data found for feed: PhishingArmy\n",
      "No data found for feed: PhishingDatabase\n",
      "No data found for feed: PhishStats\n",
      "No data found for feed: PhishStats\n",
      "No data found for feed: PhishTank\n",
      "No data found for feed: ProofPointIp\n",
      "No data found for feed: PhishingArmy\n",
      "No data found for feed: TweetFeed\n",
      "No data found for feed: UrlAbuse\n",
      "No data found for feed: UrlHaus\n",
      "No data found for feed: Valdin\n"
     ]
    },
    {
     "name": "stdout",
     "output_type": "stream",
     "text": [
      "Async took 7.14 seconds\n",
      "Async took 7.14 s\n",
      "Sync took 0.01 seconds\n",
      "Sync took 0.01 s\n",
      "\n",
      "--- Run 4 ---\n"
     ]
    },
    {
     "name": "stderr",
     "output_type": "stream",
     "text": [
      "Failed to fetch https://phishstats.info/phish_score.csv - Status: 404\n",
      "Skipping save - No data fetched for PhishStats\n",
      "Failed to fetch https://phishstats.info/phish_score.csv - Status: 404\n",
      "Skipping save - No data fetched for PhishStats\n",
      "Error fetching https://hole.cert.pl/domains/domains.csv: \n",
      "Skipping save - No data fetched for CertPl\n",
      "Error fetching https://raw.githubusercontent.com/ProKn1fe/phishtank-database/master/online-valid.json: \n",
      "Skipping save - No data fetched for PhishTank\n",
      "No data found for feed: BinaryDefenceIP\n",
      "No data found for feed: BlocklistDeIP\n",
      "No data found for feed: Botvrij\n",
      "No data found for feed: C2IntelDomain\n",
      "No data found for feed: C2TrackerIp\n",
      "No data found for feed: CertPl\n",
      "No data found for feed: GreenSnowIp\n",
      "No data found for feed: MiraiSecurityIp\n",
      "No data found for feed: OpenPhish\n",
      "No data found for feed: PhishingArmy\n",
      "No data found for feed: PhishingDatabase\n",
      "No data found for feed: PhishStats\n",
      "No data found for feed: PhishStats\n",
      "No data found for feed: PhishTank\n",
      "No data found for feed: ProofPointIp\n",
      "No data found for feed: PhishingArmy\n",
      "No data found for feed: TweetFeed\n",
      "No data found for feed: UrlAbuse\n",
      "No data found for feed: UrlHaus\n",
      "No data found for feed: Valdin\n"
     ]
    },
    {
     "name": "stdout",
     "output_type": "stream",
     "text": [
      "Async took 5.74 seconds\n",
      "Async took 5.74 s\n",
      "Sync took 0.01 seconds\n",
      "Sync took 0.01 s\n",
      "\n",
      "--- Run 5 ---\n"
     ]
    },
    {
     "name": "stderr",
     "output_type": "stream",
     "text": [
      "Failed to fetch https://phishstats.info/phish_score.csv - Status: 404\n",
      "Skipping save - No data fetched for PhishStats\n",
      "Failed to fetch https://phishstats.info/phish_score.csv - Status: 404\n",
      "Skipping save - No data fetched for PhishStats\n",
      "Error fetching https://hole.cert.pl/domains/domains.csv: \n",
      "Skipping save - No data fetched for CertPl\n",
      "No data found for feed: BinaryDefenceIP\n",
      "No data found for feed: BlocklistDeIP\n",
      "No data found for feed: Botvrij\n",
      "No data found for feed: C2IntelDomain\n",
      "No data found for feed: C2TrackerIp\n",
      "No data found for feed: CertPl\n",
      "No data found for feed: GreenSnowIp\n",
      "No data found for feed: MiraiSecurityIp\n",
      "No data found for feed: OpenPhish\n",
      "No data found for feed: PhishingArmy\n",
      "No data found for feed: PhishingDatabase\n",
      "No data found for feed: PhishStats\n",
      "No data found for feed: PhishStats\n",
      "No data found for feed: PhishTank\n",
      "No data found for feed: ProofPointIp\n",
      "No data found for feed: PhishingArmy\n",
      "No data found for feed: TweetFeed\n",
      "No data found for feed: UrlAbuse\n",
      "No data found for feed: UrlHaus\n",
      "No data found for feed: Valdin\n"
     ]
    },
    {
     "name": "stdout",
     "output_type": "stream",
     "text": [
      "Async took 7.12 seconds\n",
      "Async took 7.12 s\n",
      "Sync took 0.01 seconds\n",
      "Sync took 0.01 s\n",
      "\n",
      "Average async time: 7.92 s\n",
      "Average sync time: 0.01 s\n"
     ]
    },
    {
     "name": "stderr",
     "output_type": "stream",
     "text": [
      "Failed to fetch https://phishstats.info/phish_score.csv - Status: 404\n",
      "Skipping save - No data fetched for PhishStats\n"
     ]
    }
   ],
   "execution_count": 6
  },
  {
   "metadata": {
    "ExecuteTime": {
     "end_time": "2025-05-28T09:08:37.789312Z",
     "start_time": "2025-05-28T09:08:37.782081Z"
    }
   },
   "cell_type": "code",
   "source": "",
   "id": "f481aa776fe830c5",
   "outputs": [],
   "execution_count": null
  }
 ],
 "metadata": {
  "kernelspec": {
   "display_name": "Python 3",
   "language": "python",
   "name": "python3"
  },
  "language_info": {
   "codemirror_mode": {
    "name": "ipython",
    "version": 2
   },
   "file_extension": ".py",
   "mimetype": "text/x-python",
   "name": "python",
   "nbconvert_exporter": "python",
   "pygments_lexer": "ipython2",
   "version": "2.7.6"
  }
 },
 "nbformat": 4,
 "nbformat_minor": 5
}
