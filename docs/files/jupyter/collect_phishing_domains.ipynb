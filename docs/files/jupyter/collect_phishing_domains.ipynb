{
 "cells": [
  {
   "metadata": {},
   "cell_type": "markdown",
   "source": [
    "# Introduction\n",
    "\n",
    "This notebook provides a quick introduction to the `phishing-web-collector` library, which allows you to collect phishing domains from various feeds. \n",
    "\n",
    "It provides a simple way to retrieve and store phishing domains in a separate CSV file.\n",
    "By default, all raw data collected from the feeds is stored in a local directory configured by `storage_path` parameter of `FeedManager` class."
   ],
   "id": "1cbeecbff4306674"
  },
  {
   "metadata": {},
   "cell_type": "markdown",
   "source": "# Installation\n",
   "id": "d7a45babfa4d269"
  },
  {
   "metadata": {
    "ExecuteTime": {
     "end_time": "2025-05-28T09:14:36.635595Z",
     "start_time": "2025-05-28T09:14:35.917570Z"
    }
   },
   "cell_type": "code",
   "source": "!pip install phishing-web-collector==0.1.3",
   "id": "dcb722d1129eb76b",
   "outputs": [
    {
     "name": "stdout",
     "output_type": "stream",
     "text": [
      "Requirement already satisfied: phishing-web-collector==0.1.3 in /home/efraszczak/programowanie/phishing-web-collector/venv/lib/python3.10/site-packages (0.1.3)\r\n",
      "Requirement already satisfied: aiohttp in /home/efraszczak/programowanie/phishing-web-collector/venv/lib/python3.10/site-packages (from phishing-web-collector==0.1.3) (3.11.12)\r\n",
      "Requirement already satisfied: aiohappyeyeballs>=2.3.0 in /home/efraszczak/programowanie/phishing-web-collector/venv/lib/python3.10/site-packages (from aiohttp->phishing-web-collector==0.1.3) (2.4.6)\r\n",
      "Requirement already satisfied: aiosignal>=1.1.2 in /home/efraszczak/programowanie/phishing-web-collector/venv/lib/python3.10/site-packages (from aiohttp->phishing-web-collector==0.1.3) (1.3.2)\r\n",
      "Requirement already satisfied: async-timeout<6.0,>=4.0 in /home/efraszczak/programowanie/phishing-web-collector/venv/lib/python3.10/site-packages (from aiohttp->phishing-web-collector==0.1.3) (5.0.1)\r\n",
      "Requirement already satisfied: attrs>=17.3.0 in /home/efraszczak/programowanie/phishing-web-collector/venv/lib/python3.10/site-packages (from aiohttp->phishing-web-collector==0.1.3) (25.1.0)\r\n",
      "Requirement already satisfied: frozenlist>=1.1.1 in /home/efraszczak/programowanie/phishing-web-collector/venv/lib/python3.10/site-packages (from aiohttp->phishing-web-collector==0.1.3) (1.5.0)\r\n",
      "Requirement already satisfied: multidict<7.0,>=4.5 in /home/efraszczak/programowanie/phishing-web-collector/venv/lib/python3.10/site-packages (from aiohttp->phishing-web-collector==0.1.3) (6.1.0)\r\n",
      "Requirement already satisfied: propcache>=0.2.0 in /home/efraszczak/programowanie/phishing-web-collector/venv/lib/python3.10/site-packages (from aiohttp->phishing-web-collector==0.1.3) (0.2.1)\r\n",
      "Requirement already satisfied: yarl<2.0,>=1.17.0 in /home/efraszczak/programowanie/phishing-web-collector/venv/lib/python3.10/site-packages (from aiohttp->phishing-web-collector==0.1.3) (1.18.3)\r\n",
      "Requirement already satisfied: typing-extensions>=4.1.0 in /home/efraszczak/programowanie/phishing-web-collector/venv/lib/python3.10/site-packages (from multidict<7.0,>=4.5->aiohttp->phishing-web-collector==0.1.3) (4.12.2)\r\n",
      "Requirement already satisfied: idna>=2.0 in /home/efraszczak/programowanie/phishing-web-collector/venv/lib/python3.10/site-packages (from yarl<2.0,>=1.17.0->aiohttp->phishing-web-collector==0.1.3) (3.10)\r\n",
      "\r\n",
      "\u001B[1m[\u001B[0m\u001B[34;49mnotice\u001B[0m\u001B[1;39;49m]\u001B[0m\u001B[39;49m A new release of pip is available: \u001B[0m\u001B[31;49m24.3.1\u001B[0m\u001B[39;49m -> \u001B[0m\u001B[32;49m25.1.1\u001B[0m\r\n",
      "\u001B[1m[\u001B[0m\u001B[34;49mnotice\u001B[0m\u001B[1;39;49m]\u001B[0m\u001B[39;49m To update, run: \u001B[0m\u001B[32;49mpip install --upgrade pip\u001B[0m\r\n"
     ]
    }
   ],
   "execution_count": 11
  },
  {
   "metadata": {},
   "cell_type": "markdown",
   "source": "# Import libraries  ",
   "id": "8805a65d0878c361"
  },
  {
   "metadata": {
    "ExecuteTime": {
     "end_time": "2025-05-28T09:14:36.649449Z",
     "start_time": "2025-05-28T09:14:36.647551Z"
    }
   },
   "cell_type": "code",
   "source": [
    "import csv\n",
    "\n",
    "import phishing_web_collector as pwc"
   ],
   "id": "5b1d3f87bb2d4656",
   "outputs": [],
   "execution_count": 12
  },
  {
   "metadata": {},
   "cell_type": "markdown",
   "source": "# Configure phishing feeds\n",
   "id": "4141183e5ae85332"
  },
  {
   "metadata": {
    "ExecuteTime": {
     "end_time": "2025-05-28T09:14:36.698708Z",
     "start_time": "2025-05-28T09:14:36.695370Z"
    }
   },
   "cell_type": "code",
   "source": [
    "manager = pwc.FeedManager(\n",
    "    sources=[\n",
    "        pwc.FeedSource.BINARY_DEFENCE_IP,\n",
    "        pwc.FeedSource.BLOCKLIST_DE_IP,\n",
    "        pwc.FeedSource.BOTVRIJ,\n",
    "        pwc.FeedSource.C2_INTEL_DOMAIN,\n",
    "        pwc.FeedSource.C2_TRACKER_IP,\n",
    "        pwc.FeedSource.CERT_PL,\n",
    "        pwc.FeedSource.GREEN_SNOW_IP,\n",
    "        pwc.FeedSource.MIRAI_SECURITY_IP,\n",
    "        pwc.FeedSource.OPEN_PHISH,\n",
    "        pwc.FeedSource.PHISHING_ARMY,\n",
    "        pwc.FeedSource.PHISHING_DATABASE,\n",
    "        pwc.FeedSource.PHISH_STATS,\n",
    "        pwc.FeedSource.PHISH_TANK,\n",
    "        pwc.FeedSource.PROOF_POINT_IP,\n",
    "        pwc.FeedSource.THREAT_VIEW_DOMAIN,\n",
    "        pwc.FeedSource.TWEET_FEED,\n",
    "        pwc.FeedSource.URL_ABUSE,\n",
    "        pwc.FeedSource.URL_HAUS,\n",
    "        pwc.FeedSource.VALDIN,\n",
    "    ],\n",
    "    storage_path=\"feeds_data\",\n",
    ")"
   ],
   "id": "7e41453b2a2b45ea",
   "outputs": [],
   "execution_count": 13
  },
  {
   "metadata": {},
   "cell_type": "markdown",
   "source": "# Retrieve feeds",
   "id": "b61c7dbd0d84b79b"
  },
  {
   "metadata": {
    "ExecuteTime": {
     "end_time": "2025-05-28T09:14:36.746136Z",
     "start_time": "2025-05-28T09:14:36.744097Z"
    }
   },
   "cell_type": "code",
   "source": [
    "manager.sync_refresh_all()\n",
    "entries = manager.sync_retrieve_all()"
   ],
   "id": "c1d1c550a4690f39",
   "outputs": [
    {
     "name": "stderr",
     "output_type": "stream",
     "text": [
      "Failed to fetch https://phishstats.info/phish_score.csv - Status: 404\n",
      "Skipping save - No data fetched for PhishStats\n",
      "No data found for feed: PhishStats\n",
      "Failed to fetch https://phishstats.info/phish_score.csv - Status: 404\n",
      "Skipping save - No data fetched for PhishStats\n"
     ]
    }
   ],
   "execution_count": 14
  },
  {
   "metadata": {},
   "cell_type": "markdown",
   "source": "# Transform entries to CSV",
   "id": "14f2b88050a8c12"
  },
  {
   "metadata": {
    "ExecuteTime": {
     "end_time": "2025-05-28T09:14:36.934091Z",
     "start_time": "2025-05-28T09:14:36.812454Z"
    }
   },
   "cell_type": "code",
   "source": [
    "\n",
    "phishing_domains = [pwc.get_domain_from_url(item.url) for item in entries]\n",
    "\n",
    "with open(\"phishing_domains.csv\", mode=\"w\", newline=\"\", encoding=\"utf-8\") as file:\n",
    "    writer = csv.writer(file)\n",
    "    writer.writerow([\"Domain\"])\n",
    "    for domain in phishing_domains:\n",
    "        writer.writerow([domain])\n"
   ],
   "id": "cc1f6c09818d6682",
   "outputs": [
    {
     "ename": "AttributeError",
     "evalue": "'_asyncio.Task' object has no attribute 'url'",
     "output_type": "error",
     "traceback": [
      "\u001B[0;31m---------------------------------------------------------------------------\u001B[0m",
      "\u001B[0;31mAttributeError\u001B[0m                            Traceback (most recent call last)",
      "Cell \u001B[0;32mIn[15], line 1\u001B[0m\n\u001B[0;32m----> 1\u001B[0m phishing_domains \u001B[38;5;241m=\u001B[39m [pwc\u001B[38;5;241m.\u001B[39mget_domain_from_url(item\u001B[38;5;241m.\u001B[39murl) \u001B[38;5;28;01mfor\u001B[39;00m item \u001B[38;5;129;01min\u001B[39;00m entries]\n\u001B[1;32m      3\u001B[0m \u001B[38;5;28;01mwith\u001B[39;00m \u001B[38;5;28mopen\u001B[39m(\u001B[38;5;124m\"\u001B[39m\u001B[38;5;124mphishing_domains.csv\u001B[39m\u001B[38;5;124m\"\u001B[39m, mode\u001B[38;5;241m=\u001B[39m\u001B[38;5;124m\"\u001B[39m\u001B[38;5;124mw\u001B[39m\u001B[38;5;124m\"\u001B[39m, newline\u001B[38;5;241m=\u001B[39m\u001B[38;5;124m\"\u001B[39m\u001B[38;5;124m\"\u001B[39m, encoding\u001B[38;5;241m=\u001B[39m\u001B[38;5;124m\"\u001B[39m\u001B[38;5;124mutf-8\u001B[39m\u001B[38;5;124m\"\u001B[39m) \u001B[38;5;28;01mas\u001B[39;00m file:\n\u001B[1;32m      4\u001B[0m     writer \u001B[38;5;241m=\u001B[39m csv\u001B[38;5;241m.\u001B[39mwriter(file)\n",
      "Cell \u001B[0;32mIn[15], line 1\u001B[0m, in \u001B[0;36m<listcomp>\u001B[0;34m(.0)\u001B[0m\n\u001B[0;32m----> 1\u001B[0m phishing_domains \u001B[38;5;241m=\u001B[39m [pwc\u001B[38;5;241m.\u001B[39mget_domain_from_url(\u001B[43mitem\u001B[49m\u001B[38;5;241;43m.\u001B[39;49m\u001B[43murl\u001B[49m) \u001B[38;5;28;01mfor\u001B[39;00m item \u001B[38;5;129;01min\u001B[39;00m entries]\n\u001B[1;32m      3\u001B[0m \u001B[38;5;28;01mwith\u001B[39;00m \u001B[38;5;28mopen\u001B[39m(\u001B[38;5;124m\"\u001B[39m\u001B[38;5;124mphishing_domains.csv\u001B[39m\u001B[38;5;124m\"\u001B[39m, mode\u001B[38;5;241m=\u001B[39m\u001B[38;5;124m\"\u001B[39m\u001B[38;5;124mw\u001B[39m\u001B[38;5;124m\"\u001B[39m, newline\u001B[38;5;241m=\u001B[39m\u001B[38;5;124m\"\u001B[39m\u001B[38;5;124m\"\u001B[39m, encoding\u001B[38;5;241m=\u001B[39m\u001B[38;5;124m\"\u001B[39m\u001B[38;5;124mutf-8\u001B[39m\u001B[38;5;124m\"\u001B[39m) \u001B[38;5;28;01mas\u001B[39;00m file:\n\u001B[1;32m      4\u001B[0m     writer \u001B[38;5;241m=\u001B[39m csv\u001B[38;5;241m.\u001B[39mwriter(file)\n",
      "\u001B[0;31mAttributeError\u001B[0m: '_asyncio.Task' object has no attribute 'url'"
     ]
    }
   ],
   "execution_count": 15
  }
 ],
 "metadata": {
  "kernelspec": {
   "display_name": "Python 3",
   "language": "python",
   "name": "python3"
  },
  "language_info": {
   "codemirror_mode": {
    "name": "ipython",
    "version": 2
   },
   "file_extension": ".py",
   "mimetype": "text/x-python",
   "name": "python",
   "nbconvert_exporter": "python",
   "pygments_lexer": "ipython2",
   "version": "2.7.6"
  }
 },
 "nbformat": 4,
 "nbformat_minor": 5
}
