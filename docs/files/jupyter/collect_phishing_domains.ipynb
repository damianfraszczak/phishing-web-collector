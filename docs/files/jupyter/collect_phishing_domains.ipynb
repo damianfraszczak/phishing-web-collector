{
 "cells": [
  {
   "metadata": {},
   "cell_type": "markdown",
   "source": [
    "# Introduction\n",
    "\n",
    "This notebook provides a quick introduction to the `phishing-web-collector` library, which allows you to collect phishing domains from various feeds. \n",
    "\n",
    "It provides a simple way to retrieve and store phishing domains in a separate CSV file.\n",
    "By default, all raw data collected from the feeds is stored in a local directory configured by `storage_path` parameter of `FeedManager` class."
   ],
   "id": "1cbeecbff4306674"
  },
  {
   "metadata": {},
   "cell_type": "markdown",
   "source": "# Installation\n",
   "id": "d7a45babfa4d269"
  },
  {
   "metadata": {
    "ExecuteTime": {
     "end_time": "2025-05-28T09:27:30.521418Z",
     "start_time": "2025-05-28T09:27:29.800001Z"
    }
   },
   "cell_type": "code",
   "source": "!pip install phishing-web-collector>=0.1.3",
   "id": "dcb722d1129eb76b",
   "outputs": [
    {
     "name": "stdout",
     "output_type": "stream",
     "text": [
      "\r\n",
      "\u001B[1m[\u001B[0m\u001B[34;49mnotice\u001B[0m\u001B[1;39;49m]\u001B[0m\u001B[39;49m A new release of pip is available: \u001B[0m\u001B[31;49m24.3.1\u001B[0m\u001B[39;49m -> \u001B[0m\u001B[32;49m25.1.1\u001B[0m\r\n",
      "\u001B[1m[\u001B[0m\u001B[34;49mnotice\u001B[0m\u001B[1;39;49m]\u001B[0m\u001B[39;49m To update, run: \u001B[0m\u001B[32;49mpip install --upgrade pip\u001B[0m\r\n"
     ]
    }
   ],
   "execution_count": 30
  },
  {
   "metadata": {},
   "cell_type": "markdown",
   "source": "# Import libraries  ",
   "id": "8805a65d0878c361"
  },
  {
   "metadata": {
    "ExecuteTime": {
     "end_time": "2025-05-28T09:27:30.532671Z",
     "start_time": "2025-05-28T09:27:30.530876Z"
    }
   },
   "cell_type": "code",
   "source": [
    "import csv\n",
    "\n",
    "import phishing_web_collector as pwc"
   ],
   "id": "5b1d3f87bb2d4656",
   "outputs": [],
   "execution_count": 31
  },
  {
   "metadata": {},
   "cell_type": "markdown",
   "source": "# Configure phishing feeds\n",
   "id": "4141183e5ae85332"
  },
  {
   "metadata": {
    "ExecuteTime": {
     "end_time": "2025-05-28T09:27:30.581209Z",
     "start_time": "2025-05-28T09:27:30.577665Z"
    }
   },
   "cell_type": "code",
   "source": [
    "manager = pwc.FeedManager(\n",
    "    sources=[\n",
    "        pwc.FeedSource.BINARY_DEFENCE_IP,\n",
    "        pwc.FeedSource.BLOCKLIST_DE_IP,\n",
    "        pwc.FeedSource.BOTVRIJ,\n",
    "        pwc.FeedSource.C2_INTEL_DOMAIN,\n",
    "        pwc.FeedSource.C2_TRACKER_IP,\n",
    "        pwc.FeedSource.CERT_PL,\n",
    "        pwc.FeedSource.DANGEROUS_DOMAINS,\n",
    "        pwc.FeedSource.GREEN_SNOW_IP,\n",
    "        pwc.FeedSource.MIRAI_SECURITY_IP,\n",
    "        pwc.FeedSource.OPEN_PHISH,\n",
    "        pwc.FeedSource.PHISHING_ARMY,\n",
    "        pwc.FeedSource.PHISHING_DATABASE,\n",
    "        pwc.FeedSource.PHISH_STATS_API,\n",
    "        pwc.FeedSource.PHISH_TANK,\n",
    "        pwc.FeedSource.PROOF_POINT_IP,\n",
    "        pwc.FeedSource.THREAT_VIEW_DOMAIN,\n",
    "        pwc.FeedSource.TWEET_FEED,\n",
    "        pwc.FeedSource.URL_ABUSE,\n",
    "        pwc.FeedSource.URL_HAUS,\n",
    "        pwc.FeedSource.VALDIN,\n",
    "    ],\n",
    "    storage_path=\"feeds_data\",\n",
    ")"
   ],
   "id": "7e41453b2a2b45ea",
   "outputs": [],
   "execution_count": 32
  },
  {
   "metadata": {},
   "cell_type": "markdown",
   "source": "# Retrieve feeds",
   "id": "b61c7dbd0d84b79b"
  },
  {
   "metadata": {
    "ExecuteTime": {
     "end_time": "2025-05-28T09:27:38.791490Z",
     "start_time": "2025-05-28T09:27:30.625142Z"
    }
   },
   "cell_type": "code",
   "source": "entries = await manager.retrieve_all()",
   "id": "c1d1c550a4690f39",
   "outputs": [],
   "execution_count": 33
  },
  {
   "metadata": {},
   "cell_type": "markdown",
   "source": "# Transform entries to CSV",
   "id": "14f2b88050a8c12"
  },
  {
   "metadata": {
    "ExecuteTime": {
     "end_time": "2025-05-28T09:27:43.206307Z",
     "start_time": "2025-05-28T09:27:38.803310Z"
    }
   },
   "cell_type": "code",
   "source": [
    "\n",
    "phishing_domains = [pwc.get_domain_from_url(item.url) for item in entries]\n",
    "\n",
    "with open(\"phishing_domains.csv\", mode=\"w\", newline=\"\", encoding=\"utf-8\") as file:\n",
    "    writer = csv.writer(file)\n",
    "    writer.writerow([\"Domain\"])\n",
    "    for domain in phishing_domains:\n",
    "        writer.writerow([domain])\n"
   ],
   "id": "cc1f6c09818d6682",
   "outputs": [],
   "execution_count": 34
  }
 ],
 "metadata": {
  "kernelspec": {
   "display_name": "Python 3",
   "language": "python",
   "name": "python3"
  },
  "language_info": {
   "codemirror_mode": {
    "name": "ipython",
    "version": 2
   },
   "file_extension": ".py",
   "mimetype": "text/x-python",
   "name": "python",
   "nbconvert_exporter": "python",
   "pygments_lexer": "ipython2",
   "version": "2.7.6"
  }
 },
 "nbformat": 4,
 "nbformat_minor": 5
}
