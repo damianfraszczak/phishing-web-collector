{
 "cells": [
  {
   "metadata": {},
   "cell_type": "markdown",
   "source": [
    "# Introduction\n",
    "\n",
    "This notebook provides a quick introduction to the `phishing-web-collector` library, which allows you to collect phishing domains from various feeds. \n",
    "\n",
    "It provides a simple way to retrieve and store phishing domains in a separate CSV file.\n",
    "By default, all raw data collected from the feeds is stored in a local directory configured by `storage_path` parameter of `FeedManager` class."
   ],
   "id": "1cbeecbff4306674"
  },
  {
   "metadata": {},
   "cell_type": "markdown",
   "source": "# Installation\n",
   "id": "d7a45babfa4d269"
  },
  {
   "metadata": {
    "ExecuteTime": {
     "end_time": "2025-06-01T07:21:20.887541Z",
     "start_time": "2025-06-01T07:21:19.557481Z"
    }
   },
   "cell_type": "code",
   "source": "!pip install phishing-web-collector>=0.2.1",
   "id": "dcb722d1129eb76b",
   "outputs": [
    {
     "name": "stderr",
     "output_type": "stream",
     "text": [
      "\n",
      "[notice] A new release of pip is available: 25.0.1 -> 25.1.1\n",
      "[notice] To update, run: python.exe -m pip install --upgrade pip\n"
     ]
    }
   ],
   "execution_count": 1
  },
  {
   "metadata": {},
   "cell_type": "markdown",
   "source": "# Import libraries  ",
   "id": "8805a65d0878c361"
  },
  {
   "metadata": {
    "ExecuteTime": {
     "end_time": "2025-06-01T07:21:29.312337Z",
     "start_time": "2025-06-01T07:21:28.924494Z"
    }
   },
   "cell_type": "code",
   "source": [
    "import csv\n",
    "\n",
    "import phishing_web_collector as pwc"
   ],
   "id": "5b1d3f87bb2d4656",
   "outputs": [],
   "execution_count": 3
  },
  {
   "metadata": {},
   "cell_type": "markdown",
   "source": "# Configure phishing feeds\n",
   "id": "4141183e5ae85332"
  },
  {
   "metadata": {
    "ExecuteTime": {
     "end_time": "2025-06-01T07:21:30.988229Z",
     "start_time": "2025-06-01T07:21:30.973246Z"
    }
   },
   "cell_type": "code",
   "source": [
    "manager = pwc.FeedManager(\n",
    "    sources=[\n",
    "        pwc.FeedSource.AD_GUARD_HOME,\n",
    "        pwc.FeedSource.BINARY_DEFENCE_IP,\n",
    "        pwc.FeedSource.BLOCKLIST_DE_IP,\n",
    "        pwc.FeedSource.BOTVRIJ,\n",
    "        pwc.FeedSource.C2_INTEL_DOMAIN,\n",
    "        pwc.FeedSource.C2_TRACKER_IP,\n",
    "        pwc.FeedSource.CERT_PL,\n",
    "        pwc.FeedSource.DANGEROUS_DOMAINS,\n",
    "        pwc.FeedSource.GREEN_SNOW_IP,\n",
    "        pwc.FeedSource.MALWARE_WORLD,\n",
    "        pwc.FeedSource.MIRAI_SECURITY_IP,\n",
    "        pwc.FeedSource.OPEN_PHISH,\n",
    "        pwc.FeedSource.PHISHING_ARMY,\n",
    "        pwc.FeedSource.PHISHING_DATABASE,\n",
    "        pwc.FeedSource.PHISH_STATS,\n",
    "        pwc.FeedSource.PHISH_TANK,\n",
    "        pwc.FeedSource.PROOF_POINT_IP,\n",
    "        pwc.FeedSource.THREAT_VIEW_DOMAIN,\n",
    "        pwc.FeedSource.TWEET_FEED,\n",
    "        pwc.FeedSource.URL_ABUSE,\n",
    "        pwc.FeedSource.URL_HAUS,\n",
    "        pwc.FeedSource.VALDIN,\n",
    "    ],\n",
    "    storage_path=\"feeds_data\",\n",
    ")"
   ],
   "id": "7e41453b2a2b45ea",
   "outputs": [],
   "execution_count": 4
  },
  {
   "metadata": {},
   "cell_type": "markdown",
   "source": "# Retrieve feeds",
   "id": "b61c7dbd0d84b79b"
  },
  {
   "metadata": {
    "ExecuteTime": {
     "end_time": "2025-06-01T07:21:49.657788Z",
     "start_time": "2025-06-01T07:21:34.161849Z"
    }
   },
   "cell_type": "code",
   "source": "entries = await manager.retrieve_all()",
   "id": "c1d1c550a4690f39",
   "outputs": [],
   "execution_count": 5
  },
  {
   "metadata": {},
   "cell_type": "markdown",
   "source": "# Transform entries to CSV",
   "id": "14f2b88050a8c12"
  },
  {
   "metadata": {
    "ExecuteTime": {
     "end_time": "2025-06-01T07:23:12.367556Z",
     "start_time": "2025-06-01T07:22:56.260684Z"
    }
   },
   "cell_type": "code",
   "source": [
    "\n",
    "phishing_domains = [pwc.get_domain_from_url(item.url) for item in entries]\n",
    "\n",
    "with open(\"phishing_domains.csv\", mode=\"w\", newline=\"\", encoding=\"utf-8\") as file:\n",
    "    writer = csv.writer(file)\n",
    "    writer.writerow([\"Domain\"])\n",
    "    for domain in phishing_domains:\n",
    "        writer.writerow([domain])\n",
    "print(\"First 10 phishing domains:\")\n",
    "print(phishing_domains[:10])"
   ],
   "id": "cc1f6c09818d6682",
   "outputs": [
    {
     "name": "stdout",
     "output_type": "stream",
     "text": [
      "First 10 phishing domains:\n",
      "['swingingtxcpl.tumblr.com', 'xinchaochcdfe.com', 'wingsofhewind.tk', 'ad237.ezcybersearch.com', 'r9---sn--pj2-2v1e.googlevideo.com', 'tracking.etidning.norrteljetidning.se', 'seducio.com', 'r16---sn-a5mekn7d.googlevideo.com', 'iampornholio-deactivated2015111.tumblr.com', 'celebrity-nude-pictures.com']\n"
     ]
    }
   ],
   "execution_count": 7
  },
  {
   "metadata": {},
   "cell_type": "code",
   "outputs": [],
   "execution_count": null,
   "source": "",
   "id": "616d8fbc756140cf"
  }
 ],
 "metadata": {
  "kernelspec": {
   "display_name": "Python 3",
   "language": "python",
   "name": "python3"
  },
  "language_info": {
   "codemirror_mode": {
    "name": "ipython",
    "version": 2
   },
   "file_extension": ".py",
   "mimetype": "text/x-python",
   "name": "python",
   "nbconvert_exporter": "python",
   "pygments_lexer": "ipython2",
   "version": "2.7.6"
  }
 },
 "nbformat": 4,
 "nbformat_minor": 5
}
