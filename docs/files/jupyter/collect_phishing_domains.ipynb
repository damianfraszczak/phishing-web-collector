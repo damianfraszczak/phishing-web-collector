{
 "cells": [
  {
   "metadata": {},
   "cell_type": "markdown",
   "source": [
    "# Introduction\n",
    "\n",
    "This notebook provides a quick introduction to the `phishing-web-collector` library, which allows you to collect phishing domains from various feeds. \n",
    "\n",
    "It provides a simple way to retrieve and store phishing domains in a separate CSV file.\n",
    "By default, all raw data collected from the feeds is stored in a local directory configured by `storage_path` parameter of `FeedManager` class."
   ],
   "id": "1cbeecbff4306674"
  },
  {
   "metadata": {},
   "cell_type": "markdown",
   "source": "# Installation\n",
   "id": "d7a45babfa4d269"
  },
  {
   "metadata": {
    "ExecuteTime": {
     "end_time": "2025-05-26T05:08:59.384143Z",
     "start_time": "2025-05-26T05:08:59.086008Z"
    }
   },
   "cell_type": "code",
   "source": "!pip phishing-web-collector",
   "id": "dcb722d1129eb76b",
   "outputs": [
    {
     "name": "stderr",
     "output_type": "stream",
     "text": [
      "ERROR: unknown command \"phishing-web-collector\"\n",
      "\n"
     ]
    }
   ],
   "execution_count": 15
  },
  {
   "metadata": {},
   "cell_type": "markdown",
   "source": "# Import libraries  ",
   "id": "8805a65d0878c361"
  },
  {
   "metadata": {
    "ExecuteTime": {
     "end_time": "2025-05-26T05:08:59.392781Z",
     "start_time": "2025-05-26T05:08:59.386059Z"
    }
   },
   "cell_type": "code",
   "source": [
    "import csv\n",
    "\n",
    "import phishing_web_collector as pwc"
   ],
   "id": "5b1d3f87bb2d4656",
   "outputs": [],
   "execution_count": 16
  },
  {
   "metadata": {},
   "cell_type": "markdown",
   "source": "# Configure phishing feeds\n",
   "id": "4141183e5ae85332"
  },
  {
   "metadata": {
    "ExecuteTime": {
     "end_time": "2025-05-26T05:08:59.402899Z",
     "start_time": "2025-05-26T05:08:59.398122Z"
    }
   },
   "cell_type": "code",
   "source": [
    "manager = pwc.FeedManager(\n",
    "    sources=[\n",
    "        pwc.FeedSource.BINARY_DEFENCE_IP,\n",
    "        pwc.FeedSource.BLOCKLIST_DE_IP,\n",
    "        pwc.FeedSource.BOTVRIJ,\n",
    "        pwc.FeedSource.C2_INTEL_DOMAIN,\n",
    "        pwc.FeedSource.C2_TRACKER_IP,\n",
    "        pwc.FeedSource.CERT_PL,\n",
    "        pwc.FeedSource.GREEN_SNOW_IP,\n",
    "        pwc.FeedSource.MIRAI_SECURITY_IP,\n",
    "        pwc.FeedSource.OPEN_PHISH,\n",
    "        pwc.FeedSource.PHISHING_ARMY,\n",
    "        pwc.FeedSource.PHISHING_DATABASE,\n",
    "        pwc.FeedSource.PHISH_STATS,\n",
    "        pwc.FeedSource.PHISH_TANK,\n",
    "        pwc.FeedSource.PROOF_POINT_IP,\n",
    "        pwc.FeedSource.THREAT_VIEW_DOMAIN,\n",
    "        pwc.FeedSource.TWEET_FEED,\n",
    "        pwc.FeedSource.URL_ABUSE,\n",
    "        pwc.FeedSource.URL_HAUS,\n",
    "        pwc.FeedSource.VALDIN,\n",
    "    ],\n",
    "    storage_path=\"feeds_data\",\n",
    ")"
   ],
   "id": "7e41453b2a2b45ea",
   "outputs": [],
   "execution_count": 17
  },
  {
   "metadata": {},
   "cell_type": "markdown",
   "source": "# Retrieve feeds",
   "id": "b61c7dbd0d84b79b"
  },
  {
   "metadata": {
    "ExecuteTime": {
     "end_time": "2025-05-26T05:08:59.435415Z",
     "start_time": "2025-05-26T05:08:59.407410Z"
    }
   },
   "cell_type": "code",
   "source": [
    "manager.sync_refresh_all()\n",
    "entries = manager.sync_retrieve_all()"
   ],
   "id": "c1d1c550a4690f39",
   "outputs": [
    {
     "ename": "RuntimeError",
     "evalue": "asyncio.run() cannot be called from a running event loop",
     "output_type": "error",
     "traceback": [
      "\u001B[31m---------------------------------------------------------------------------\u001B[39m",
      "\u001B[31mRuntimeError\u001B[39m                              Traceback (most recent call last)",
      "\u001B[36mCell\u001B[39m\u001B[36m \u001B[39m\u001B[32mIn[18]\u001B[39m\u001B[32m, line 1\u001B[39m\n\u001B[32m----> \u001B[39m\u001B[32m1\u001B[39m \u001B[43mmanager\u001B[49m\u001B[43m.\u001B[49m\u001B[43msync_refresh_all\u001B[49m\u001B[43m(\u001B[49m\u001B[43m)\u001B[49m\n\u001B[32m      2\u001B[39m entries = manager.sync_retrieve_all()\n",
      "\u001B[36mFile \u001B[39m\u001B[32m~\\PycharmProjects\\phishing-web-collector\\src\\phishing_web_collector\\feed_manager.py:97\u001B[39m, in \u001B[36mFeedManager.sync_refresh_all\u001B[39m\u001B[34m(self, force)\u001B[39m\n\u001B[32m     95\u001B[39m \u001B[38;5;28;01mdef\u001B[39;00m\u001B[38;5;250m \u001B[39m\u001B[34msync_refresh_all\u001B[39m(\u001B[38;5;28mself\u001B[39m, force: \u001B[38;5;28mbool\u001B[39m = \u001B[38;5;28;01mFalse\u001B[39;00m):\n\u001B[32m     96\u001B[39m \u001B[38;5;250m    \u001B[39m\u001B[33;03m\"\"\"Refresh all configured feeds_data synchronously\"\"\"\u001B[39;00m\n\u001B[32m---> \u001B[39m\u001B[32m97\u001B[39m     \u001B[43masyncio\u001B[49m\u001B[43m.\u001B[49m\u001B[43mrun\u001B[49m\u001B[43m(\u001B[49m\u001B[38;5;28;43mself\u001B[39;49m\u001B[43m.\u001B[49m\u001B[43mrefresh_all\u001B[49m\u001B[43m(\u001B[49m\u001B[43mforce\u001B[49m\u001B[43m)\u001B[49m\u001B[43m)\u001B[49m\n",
      "\u001B[36mFile \u001B[39m\u001B[32m~\\AppData\\Local\\Programs\\Python\\Python312\\Lib\\asyncio\\runners.py:190\u001B[39m, in \u001B[36mrun\u001B[39m\u001B[34m(main, debug, loop_factory)\u001B[39m\n\u001B[32m    161\u001B[39m \u001B[38;5;250m\u001B[39m\u001B[33;03m\"\"\"Execute the coroutine and return the result.\u001B[39;00m\n\u001B[32m    162\u001B[39m \n\u001B[32m    163\u001B[39m \u001B[33;03mThis function runs the passed coroutine, taking care of\u001B[39;00m\n\u001B[32m   (...)\u001B[39m\u001B[32m    186\u001B[39m \u001B[33;03m    asyncio.run(main())\u001B[39;00m\n\u001B[32m    187\u001B[39m \u001B[33;03m\"\"\"\u001B[39;00m\n\u001B[32m    188\u001B[39m \u001B[38;5;28;01mif\u001B[39;00m events._get_running_loop() \u001B[38;5;129;01mis\u001B[39;00m \u001B[38;5;129;01mnot\u001B[39;00m \u001B[38;5;28;01mNone\u001B[39;00m:\n\u001B[32m    189\u001B[39m     \u001B[38;5;66;03m# fail fast with short traceback\u001B[39;00m\n\u001B[32m--> \u001B[39m\u001B[32m190\u001B[39m     \u001B[38;5;28;01mraise\u001B[39;00m \u001B[38;5;167;01mRuntimeError\u001B[39;00m(\n\u001B[32m    191\u001B[39m         \u001B[33m\"\u001B[39m\u001B[33masyncio.run() cannot be called from a running event loop\u001B[39m\u001B[33m\"\u001B[39m)\n\u001B[32m    193\u001B[39m \u001B[38;5;28;01mwith\u001B[39;00m Runner(debug=debug, loop_factory=loop_factory) \u001B[38;5;28;01mas\u001B[39;00m runner:\n\u001B[32m    194\u001B[39m     \u001B[38;5;28;01mreturn\u001B[39;00m runner.run(main)\n",
      "\u001B[31mRuntimeError\u001B[39m: asyncio.run() cannot be called from a running event loop"
     ]
    }
   ],
   "execution_count": 18
  },
  {
   "metadata": {},
   "cell_type": "markdown",
   "source": "# Transform entries to CSV",
   "id": "14f2b88050a8c12"
  },
  {
   "metadata": {
    "ExecuteTime": {
     "end_time": "2025-05-26T05:08:59.497335100Z",
     "start_time": "2024-10-21T17:33:08.957944Z"
    }
   },
   "cell_type": "code",
   "source": [
    "\n",
    "phishing_domains = [pwc.get_domain_from_url(item.url) for item in entries]\n",
    "\n",
    "with open(\"phishing_domains.csv\", mode=\"w\", newline=\"\", encoding=\"utf-8\") as file:\n",
    "    writer = csv.writer(file)\n",
    "    writer.writerow([\"Domain\"])\n",
    "    for domain in phishing_domains:\n",
    "        writer.writerow([domain])\n"
   ],
   "id": "cc1f6c09818d6682",
   "outputs": [
    {
     "name": "stdout",
     "output_type": "stream",
     "text": [
      "Accuracy: 1.0\n",
      "Classification Report:\n",
      "               precision    recall  f1-score   support\n",
      "\n",
      "           0       1.00      1.00      1.00         4\n",
      "           1       1.00      1.00      1.00         4\n",
      "\n",
      "    accuracy                           1.00         8\n",
      "   macro avg       1.00      1.00      1.00         8\n",
      "weighted avg       1.00      1.00      1.00         8\n",
      "\n"
     ]
    }
   ],
   "execution_count": 15
  }
 ],
 "metadata": {
  "kernelspec": {
   "display_name": "Python 3",
   "language": "python",
   "name": "python3"
  },
  "language_info": {
   "codemirror_mode": {
    "name": "ipython",
    "version": 2
   },
   "file_extension": ".py",
   "mimetype": "text/x-python",
   "name": "python",
   "nbconvert_exporter": "python",
   "pygments_lexer": "ipython2",
   "version": "2.7.6"
  }
 },
 "nbformat": 4,
 "nbformat_minor": 5
}
